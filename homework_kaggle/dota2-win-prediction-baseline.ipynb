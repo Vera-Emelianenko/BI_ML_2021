{
 "cells": [
  {
   "cell_type": "markdown",
   "metadata": {
    "papermill": {
     "duration": 0.044486,
     "end_time": "2022-02-13T23:28:22.423626",
     "exception": false,
     "start_time": "2022-02-13T23:28:22.379140",
     "status": "completed"
    },
    "tags": []
   },
   "source": [
    "# <center> Предсказание победителя в Dota 2: Отчёт по домащнему заданию курса ML в институте иоинформатики. \n",
    "\n",
    "Код, ответственный за улучшение модели, находится внизу ноутбука: \n",
    "[Улучшения модели относительно baseline](#Улучшения-модели-относительно-baseline)\n"
   ]
  },
  {
   "cell_type": "markdown",
   "metadata": {},
   "source": [
    "Лучший скор на kaggle: 0.81580"
   ]
  },
  {
   "cell_type": "markdown",
   "metadata": {
    "papermill": {
     "duration": 0.042953,
     "end_time": "2022-02-13T23:28:22.510310",
     "exception": false,
     "start_time": "2022-02-13T23:28:22.467357",
     "status": "completed"
    },
    "tags": []
   },
   "source": [
    "[Почитать подбробнее](https://meduza.io/feature/2021/10/19/rossiyskaya-komanda-vyigrala-chempionat-mira-po-dota-2-i-poluchila-18-millionov-dollarov-postoyte-otkuda-takie-dengi-neuzheli-igrat-v-dotu-tak-slozhno)"
   ]
  },
  {
   "cell_type": "markdown",
   "metadata": {
    "papermill": {
     "duration": 0.042954,
     "end_time": "2022-02-13T23:28:22.598330",
     "exception": false,
     "start_time": "2022-02-13T23:28:22.555376",
     "status": "completed"
    },
    "tags": []
   },
   "source": [
    "#### [Оригинальная статья](https://arxiv.org/pdf/2106.01782.pdf)\n",
    "    \n",
    "### Начало\n",
    "\n",
    "Посмотрим на готовые признаки и сделаем первую посылку. \n",
    "\n",
    "1. [Описание данных](#Описание-данных)\n",
    "2. [Описание признаков](#Описание-признаков)\n",
    "3. [Наша первая модель](#Наша-первая-модель)\n",
    "4. [Посылка](#Посылка)\n",
    "\n",
    "### Первые шаги на пути в датасайенс\n",
    "\n",
    "5. [Кросс-валидация](#Кросс-валидация)\n",
    "6. [Что есть в json файлах?](#Что-есть-в-json-файлах?)\n",
    "7. [Feature engineering](#Feature-engineering)"
   ]
  },
  {
   "cell_type": "markdown",
   "metadata": {
    "papermill": {
     "duration": 0.045141,
     "end_time": "2022-02-13T23:28:22.688388",
     "exception": false,
     "start_time": "2022-02-13T23:28:22.643247",
     "status": "completed"
    },
    "tags": []
   },
   "source": [
    "### Импорты"
   ]
  },
  {
   "cell_type": "code",
   "execution_count": 2,
   "metadata": {
    "execution": {
     "iopub.execute_input": "2022-02-13T23:28:22.779257Z",
     "iopub.status.busy": "2022-02-13T23:28:22.778075Z",
     "iopub.status.idle": "2022-02-13T23:28:24.258416Z",
     "shell.execute_reply": "2022-02-13T23:28:24.257521Z",
     "shell.execute_reply.started": "2022-02-13T22:54:24.504400Z"
    },
    "papermill": {
     "duration": 1.526998,
     "end_time": "2022-02-13T23:28:24.258607",
     "exception": false,
     "start_time": "2022-02-13T23:28:22.731609",
     "status": "completed"
    },
    "tags": []
   },
   "outputs": [],
   "source": [
    "import os\n",
    "import json\n",
    "import pandas as pd\n",
    "import datetime\n",
    "import warnings\n",
    "import seaborn as sns\n",
    "import matplotlib.pyplot as plt\n",
    "from sklearn.model_selection import train_test_split, ShuffleSplit, cross_val_score\n",
    "from sklearn.ensemble import RandomForestClassifier\n",
    "from sklearn.metrics import roc_auc_score, accuracy_score\n",
    "from sklearn.linear_model import LogisticRegression\n",
    "\n",
    "%matplotlib inline"
   ]
  },
  {
   "cell_type": "code",
   "execution_count": 3,
   "metadata": {
    "execution": {
     "iopub.execute_input": "2022-02-13T23:28:24.349946Z",
     "iopub.status.busy": "2022-02-13T23:28:24.349155Z",
     "iopub.status.idle": "2022-02-13T23:28:24.354489Z",
     "shell.execute_reply": "2022-02-13T23:28:24.353950Z",
     "shell.execute_reply.started": "2022-02-13T22:54:27.968328Z"
    },
    "papermill": {
     "duration": 0.051811,
     "end_time": "2022-02-13T23:28:24.354647",
     "exception": false,
     "start_time": "2022-02-13T23:28:24.302836",
     "status": "completed"
    },
    "tags": []
   },
   "outputs": [],
   "source": [
    "SEED = 10801\n",
    "sns.set_style(style=\"whitegrid\")\n",
    "plt.rcParams[\"figure.figsize\"] = 12, 8\n",
    "warnings.filterwarnings(\"ignore\")"
   ]
  },
  {
   "cell_type": "markdown",
   "metadata": {
    "papermill": {
     "duration": 0.042707,
     "end_time": "2022-02-13T23:28:24.441767",
     "exception": false,
     "start_time": "2022-02-13T23:28:24.399060",
     "status": "completed"
    },
    "tags": []
   },
   "source": [
    "## <left>Описание данных\n",
    "\n",
    "Файлы:\n",
    "\n",
    "- `sample_submission.csv`: пример файла-посылки\n",
    "- `train_raw_data.jsonl`, `test_raw_data.jsonl`: \"сырые\" данные \n",
    "- `train_data.csv`, `test_data.csv`: признаки, созданные авторами\n",
    "- `train_targets.csv`: результаты тренировочных игр"
   ]
  },
  {
   "cell_type": "markdown",
   "metadata": {
    "papermill": {
     "duration": 0.042685,
     "end_time": "2022-02-13T23:28:24.527617",
     "exception": false,
     "start_time": "2022-02-13T23:28:24.484932",
     "status": "completed"
    },
    "tags": []
   },
   "source": [
    "## <left>Описание признаков\n",
    "    \n",
    "Набор простых признаков, описывающих игроков и команды в целом"
   ]
  },
  {
   "cell_type": "code",
   "execution_count": 4,
   "metadata": {
    "execution": {
     "iopub.execute_input": "2022-02-13T23:28:24.621037Z",
     "iopub.status.busy": "2022-02-13T23:28:24.617940Z",
     "iopub.status.idle": "2022-02-13T23:28:25.955763Z",
     "shell.execute_reply": "2022-02-13T23:28:25.955019Z",
     "shell.execute_reply.started": "2022-02-13T22:54:30.336618Z"
    },
    "papermill": {
     "duration": 1.383765,
     "end_time": "2022-02-13T23:28:25.955912",
     "exception": false,
     "start_time": "2022-02-13T23:28:24.572147",
     "status": "completed"
    },
    "tags": []
   },
   "outputs": [],
   "source": [
    "PATH_TO_DATA = \".\"\n",
    "\n",
    "df_train_features = pd.read_csv(os.path.join(PATH_TO_DATA, \n",
    "                                             \"train_data.csv\"), \n",
    "                                    index_col=\"match_id_hash\")\n",
    "df_train_targets = pd.read_csv(os.path.join(PATH_TO_DATA, \n",
    "                                            \"train_targets.csv\"), \n",
    "                                   index_col=\"match_id_hash\")"
   ]
  },
  {
   "cell_type": "code",
   "execution_count": 5,
   "metadata": {
    "execution": {
     "iopub.execute_input": "2022-02-13T23:28:26.051436Z",
     "iopub.status.busy": "2022-02-13T23:28:26.050453Z",
     "iopub.status.idle": "2022-02-13T23:28:26.054853Z",
     "shell.execute_reply": "2022-02-13T23:28:26.055390Z",
     "shell.execute_reply.started": "2022-02-13T22:54:33.105218Z"
    },
    "papermill": {
     "duration": 0.055919,
     "end_time": "2022-02-13T23:28:26.055573",
     "exception": false,
     "start_time": "2022-02-13T23:28:25.999654",
     "status": "completed"
    },
    "tags": []
   },
   "outputs": [
    {
     "data": {
      "text/plain": [
       "(31698, 245)"
      ]
     },
     "execution_count": 5,
     "metadata": {},
     "output_type": "execute_result"
    }
   ],
   "source": [
    "df_train_features.shape"
   ]
  },
  {
   "cell_type": "code",
   "execution_count": 6,
   "metadata": {
    "execution": {
     "iopub.execute_input": "2022-02-13T23:28:26.154088Z",
     "iopub.status.busy": "2022-02-13T23:28:26.153391Z",
     "iopub.status.idle": "2022-02-13T23:28:26.173095Z",
     "shell.execute_reply": "2022-02-13T23:28:26.173612Z",
     "shell.execute_reply.started": "2022-02-13T22:54:34.150651Z"
    },
    "papermill": {
     "duration": 0.073611,
     "end_time": "2022-02-13T23:28:26.173793",
     "exception": false,
     "start_time": "2022-02-13T23:28:26.100182",
     "status": "completed"
    },
    "tags": []
   },
   "outputs": [
    {
     "data": {
      "text/html": [
       "<div>\n",
       "<style scoped>\n",
       "    .dataframe tbody tr th:only-of-type {\n",
       "        vertical-align: middle;\n",
       "    }\n",
       "\n",
       "    .dataframe tbody tr th {\n",
       "        vertical-align: top;\n",
       "    }\n",
       "\n",
       "    .dataframe thead th {\n",
       "        text-align: right;\n",
       "    }\n",
       "</style>\n",
       "<table border=\"1\" class=\"dataframe\">\n",
       "  <thead>\n",
       "    <tr style=\"text-align: right;\">\n",
       "      <th></th>\n",
       "      <th>game_time</th>\n",
       "      <th>game_mode</th>\n",
       "      <th>lobby_type</th>\n",
       "      <th>objectives_len</th>\n",
       "      <th>chat_len</th>\n",
       "      <th>r1_hero_id</th>\n",
       "      <th>r1_kills</th>\n",
       "      <th>r1_deaths</th>\n",
       "      <th>r1_assists</th>\n",
       "      <th>r1_denies</th>\n",
       "      <th>...</th>\n",
       "      <th>d5_stuns</th>\n",
       "      <th>d5_creeps_stacked</th>\n",
       "      <th>d5_camps_stacked</th>\n",
       "      <th>d5_rune_pickups</th>\n",
       "      <th>d5_firstblood_claimed</th>\n",
       "      <th>d5_teamfight_participation</th>\n",
       "      <th>d5_towers_killed</th>\n",
       "      <th>d5_roshans_killed</th>\n",
       "      <th>d5_obs_placed</th>\n",
       "      <th>d5_sen_placed</th>\n",
       "    </tr>\n",
       "    <tr>\n",
       "      <th>match_id_hash</th>\n",
       "      <th></th>\n",
       "      <th></th>\n",
       "      <th></th>\n",
       "      <th></th>\n",
       "      <th></th>\n",
       "      <th></th>\n",
       "      <th></th>\n",
       "      <th></th>\n",
       "      <th></th>\n",
       "      <th></th>\n",
       "      <th></th>\n",
       "      <th></th>\n",
       "      <th></th>\n",
       "      <th></th>\n",
       "      <th></th>\n",
       "      <th></th>\n",
       "      <th></th>\n",
       "      <th></th>\n",
       "      <th></th>\n",
       "      <th></th>\n",
       "      <th></th>\n",
       "    </tr>\n",
       "  </thead>\n",
       "  <tbody>\n",
       "    <tr>\n",
       "      <th>b9c57c450ce74a2af79c9ce96fac144d</th>\n",
       "      <td>658</td>\n",
       "      <td>4</td>\n",
       "      <td>0</td>\n",
       "      <td>3</td>\n",
       "      <td>10</td>\n",
       "      <td>15</td>\n",
       "      <td>7</td>\n",
       "      <td>2</td>\n",
       "      <td>0</td>\n",
       "      <td>7</td>\n",
       "      <td>...</td>\n",
       "      <td>0.000000</td>\n",
       "      <td>0</td>\n",
       "      <td>0</td>\n",
       "      <td>0</td>\n",
       "      <td>0</td>\n",
       "      <td>0.00</td>\n",
       "      <td>0</td>\n",
       "      <td>0</td>\n",
       "      <td>0</td>\n",
       "      <td>0</td>\n",
       "    </tr>\n",
       "    <tr>\n",
       "      <th>6db558535151ea18ca70a6892197db41</th>\n",
       "      <td>21</td>\n",
       "      <td>23</td>\n",
       "      <td>0</td>\n",
       "      <td>0</td>\n",
       "      <td>0</td>\n",
       "      <td>101</td>\n",
       "      <td>0</td>\n",
       "      <td>0</td>\n",
       "      <td>0</td>\n",
       "      <td>0</td>\n",
       "      <td>...</td>\n",
       "      <td>0.000000</td>\n",
       "      <td>0</td>\n",
       "      <td>0</td>\n",
       "      <td>0</td>\n",
       "      <td>0</td>\n",
       "      <td>0.00</td>\n",
       "      <td>0</td>\n",
       "      <td>0</td>\n",
       "      <td>0</td>\n",
       "      <td>0</td>\n",
       "    </tr>\n",
       "    <tr>\n",
       "      <th>19c39fe2af2b547e48708ca005c6ae74</th>\n",
       "      <td>160</td>\n",
       "      <td>22</td>\n",
       "      <td>7</td>\n",
       "      <td>0</td>\n",
       "      <td>0</td>\n",
       "      <td>57</td>\n",
       "      <td>0</td>\n",
       "      <td>0</td>\n",
       "      <td>0</td>\n",
       "      <td>1</td>\n",
       "      <td>...</td>\n",
       "      <td>0.000000</td>\n",
       "      <td>0</td>\n",
       "      <td>0</td>\n",
       "      <td>0</td>\n",
       "      <td>0</td>\n",
       "      <td>0.00</td>\n",
       "      <td>0</td>\n",
       "      <td>0</td>\n",
       "      <td>0</td>\n",
       "      <td>0</td>\n",
       "    </tr>\n",
       "    <tr>\n",
       "      <th>c96d629dc0c39f0c616d1949938a6ba6</th>\n",
       "      <td>1016</td>\n",
       "      <td>22</td>\n",
       "      <td>0</td>\n",
       "      <td>1</td>\n",
       "      <td>0</td>\n",
       "      <td>119</td>\n",
       "      <td>0</td>\n",
       "      <td>3</td>\n",
       "      <td>3</td>\n",
       "      <td>5</td>\n",
       "      <td>...</td>\n",
       "      <td>8.264696</td>\n",
       "      <td>0</td>\n",
       "      <td>0</td>\n",
       "      <td>3</td>\n",
       "      <td>0</td>\n",
       "      <td>0.25</td>\n",
       "      <td>0</td>\n",
       "      <td>0</td>\n",
       "      <td>3</td>\n",
       "      <td>0</td>\n",
       "    </tr>\n",
       "    <tr>\n",
       "      <th>156c88bff4e9c4668b0f53df3d870f1b</th>\n",
       "      <td>582</td>\n",
       "      <td>22</td>\n",
       "      <td>7</td>\n",
       "      <td>2</td>\n",
       "      <td>2</td>\n",
       "      <td>12</td>\n",
       "      <td>3</td>\n",
       "      <td>1</td>\n",
       "      <td>2</td>\n",
       "      <td>9</td>\n",
       "      <td>...</td>\n",
       "      <td>15.762911</td>\n",
       "      <td>3</td>\n",
       "      <td>1</td>\n",
       "      <td>0</td>\n",
       "      <td>1</td>\n",
       "      <td>0.50</td>\n",
       "      <td>0</td>\n",
       "      <td>0</td>\n",
       "      <td>3</td>\n",
       "      <td>0</td>\n",
       "    </tr>\n",
       "  </tbody>\n",
       "</table>\n",
       "<p>5 rows × 245 columns</p>\n",
       "</div>"
      ],
      "text/plain": [
       "                                  game_time  game_mode  lobby_type  \\\n",
       "match_id_hash                                                        \n",
       "b9c57c450ce74a2af79c9ce96fac144d        658          4           0   \n",
       "6db558535151ea18ca70a6892197db41         21         23           0   \n",
       "19c39fe2af2b547e48708ca005c6ae74        160         22           7   \n",
       "c96d629dc0c39f0c616d1949938a6ba6       1016         22           0   \n",
       "156c88bff4e9c4668b0f53df3d870f1b        582         22           7   \n",
       "\n",
       "                                  objectives_len  chat_len  r1_hero_id  \\\n",
       "match_id_hash                                                            \n",
       "b9c57c450ce74a2af79c9ce96fac144d               3        10          15   \n",
       "6db558535151ea18ca70a6892197db41               0         0         101   \n",
       "19c39fe2af2b547e48708ca005c6ae74               0         0          57   \n",
       "c96d629dc0c39f0c616d1949938a6ba6               1         0         119   \n",
       "156c88bff4e9c4668b0f53df3d870f1b               2         2          12   \n",
       "\n",
       "                                  r1_kills  r1_deaths  r1_assists  r1_denies  \\\n",
       "match_id_hash                                                                  \n",
       "b9c57c450ce74a2af79c9ce96fac144d         7          2           0          7   \n",
       "6db558535151ea18ca70a6892197db41         0          0           0          0   \n",
       "19c39fe2af2b547e48708ca005c6ae74         0          0           0          1   \n",
       "c96d629dc0c39f0c616d1949938a6ba6         0          3           3          5   \n",
       "156c88bff4e9c4668b0f53df3d870f1b         3          1           2          9   \n",
       "\n",
       "                                  ...   d5_stuns  d5_creeps_stacked  \\\n",
       "match_id_hash                     ...                                 \n",
       "b9c57c450ce74a2af79c9ce96fac144d  ...   0.000000                  0   \n",
       "6db558535151ea18ca70a6892197db41  ...   0.000000                  0   \n",
       "19c39fe2af2b547e48708ca005c6ae74  ...   0.000000                  0   \n",
       "c96d629dc0c39f0c616d1949938a6ba6  ...   8.264696                  0   \n",
       "156c88bff4e9c4668b0f53df3d870f1b  ...  15.762911                  3   \n",
       "\n",
       "                                  d5_camps_stacked  d5_rune_pickups  \\\n",
       "match_id_hash                                                         \n",
       "b9c57c450ce74a2af79c9ce96fac144d                 0                0   \n",
       "6db558535151ea18ca70a6892197db41                 0                0   \n",
       "19c39fe2af2b547e48708ca005c6ae74                 0                0   \n",
       "c96d629dc0c39f0c616d1949938a6ba6                 0                3   \n",
       "156c88bff4e9c4668b0f53df3d870f1b                 1                0   \n",
       "\n",
       "                                  d5_firstblood_claimed  \\\n",
       "match_id_hash                                             \n",
       "b9c57c450ce74a2af79c9ce96fac144d                      0   \n",
       "6db558535151ea18ca70a6892197db41                      0   \n",
       "19c39fe2af2b547e48708ca005c6ae74                      0   \n",
       "c96d629dc0c39f0c616d1949938a6ba6                      0   \n",
       "156c88bff4e9c4668b0f53df3d870f1b                      1   \n",
       "\n",
       "                                  d5_teamfight_participation  \\\n",
       "match_id_hash                                                  \n",
       "b9c57c450ce74a2af79c9ce96fac144d                        0.00   \n",
       "6db558535151ea18ca70a6892197db41                        0.00   \n",
       "19c39fe2af2b547e48708ca005c6ae74                        0.00   \n",
       "c96d629dc0c39f0c616d1949938a6ba6                        0.25   \n",
       "156c88bff4e9c4668b0f53df3d870f1b                        0.50   \n",
       "\n",
       "                                  d5_towers_killed  d5_roshans_killed  \\\n",
       "match_id_hash                                                           \n",
       "b9c57c450ce74a2af79c9ce96fac144d                 0                  0   \n",
       "6db558535151ea18ca70a6892197db41                 0                  0   \n",
       "19c39fe2af2b547e48708ca005c6ae74                 0                  0   \n",
       "c96d629dc0c39f0c616d1949938a6ba6                 0                  0   \n",
       "156c88bff4e9c4668b0f53df3d870f1b                 0                  0   \n",
       "\n",
       "                                  d5_obs_placed  d5_sen_placed  \n",
       "match_id_hash                                                   \n",
       "b9c57c450ce74a2af79c9ce96fac144d              0              0  \n",
       "6db558535151ea18ca70a6892197db41              0              0  \n",
       "19c39fe2af2b547e48708ca005c6ae74              0              0  \n",
       "c96d629dc0c39f0c616d1949938a6ba6              3              0  \n",
       "156c88bff4e9c4668b0f53df3d870f1b              3              0  \n",
       "\n",
       "[5 rows x 245 columns]"
      ]
     },
     "execution_count": 6,
     "metadata": {},
     "output_type": "execute_result"
    }
   ],
   "source": [
    "df_train_features.head()"
   ]
  },
  {
   "cell_type": "markdown",
   "metadata": {
    "papermill": {
     "duration": 0.043707,
     "end_time": "2022-02-13T23:28:26.261790",
     "exception": false,
     "start_time": "2022-02-13T23:28:26.218083",
     "status": "completed"
    },
    "tags": []
   },
   "source": [
    "Имеем ~32 тысячи наблюдений, каждое из которых характеризуется уникальным `match_id_hash` (захэшированное id матча), и 245 признаков. `game_time` показывает момент времени, в который получены эти данные. То есть по сути это не длительность самого матча, а например, его середина, таким образом, в итоге мы сможем получить модель, которая будет предсказывать вероятность победы каждой из команд в течение матча (хорошо подходит для букмекеров)."
   ]
  },
  {
   "cell_type": "markdown",
   "metadata": {
    "papermill": {
     "duration": 0.043619,
     "end_time": "2022-02-13T23:28:26.350788",
     "exception": false,
     "start_time": "2022-02-13T23:28:26.307169",
     "status": "completed"
    },
    "tags": []
   },
   "source": [
    "Нас интересует поле `radiant_win` (так называется одна из команд, вторая - dire). Остальные колоки здесь по сути получены из \"будущего\" и есть только для тренировочных данных, поэтому на них можно просто посмотреть)."
   ]
  },
  {
   "cell_type": "code",
   "execution_count": 7,
   "metadata": {
    "execution": {
     "iopub.execute_input": "2022-02-13T23:28:26.444111Z",
     "iopub.status.busy": "2022-02-13T23:28:26.442619Z",
     "iopub.status.idle": "2022-02-13T23:28:26.453906Z",
     "shell.execute_reply": "2022-02-13T23:28:26.454413Z",
     "shell.execute_reply.started": "2022-02-13T22:54:36.171466Z"
    },
    "papermill": {
     "duration": 0.059594,
     "end_time": "2022-02-13T23:28:26.454584",
     "exception": false,
     "start_time": "2022-02-13T23:28:26.394990",
     "status": "completed"
    },
    "tags": []
   },
   "outputs": [
    {
     "data": {
      "text/html": [
       "<div>\n",
       "<style scoped>\n",
       "    .dataframe tbody tr th:only-of-type {\n",
       "        vertical-align: middle;\n",
       "    }\n",
       "\n",
       "    .dataframe tbody tr th {\n",
       "        vertical-align: top;\n",
       "    }\n",
       "\n",
       "    .dataframe thead th {\n",
       "        text-align: right;\n",
       "    }\n",
       "</style>\n",
       "<table border=\"1\" class=\"dataframe\">\n",
       "  <thead>\n",
       "    <tr style=\"text-align: right;\">\n",
       "      <th></th>\n",
       "      <th>game_time</th>\n",
       "      <th>radiant_win</th>\n",
       "      <th>duration</th>\n",
       "      <th>time_remaining</th>\n",
       "      <th>next_roshan_team</th>\n",
       "    </tr>\n",
       "    <tr>\n",
       "      <th>match_id_hash</th>\n",
       "      <th></th>\n",
       "      <th></th>\n",
       "      <th></th>\n",
       "      <th></th>\n",
       "      <th></th>\n",
       "    </tr>\n",
       "  </thead>\n",
       "  <tbody>\n",
       "    <tr>\n",
       "      <th>b9c57c450ce74a2af79c9ce96fac144d</th>\n",
       "      <td>658</td>\n",
       "      <td>True</td>\n",
       "      <td>1154</td>\n",
       "      <td>496</td>\n",
       "      <td>NaN</td>\n",
       "    </tr>\n",
       "    <tr>\n",
       "      <th>6db558535151ea18ca70a6892197db41</th>\n",
       "      <td>21</td>\n",
       "      <td>True</td>\n",
       "      <td>1503</td>\n",
       "      <td>1482</td>\n",
       "      <td>Radiant</td>\n",
       "    </tr>\n",
       "    <tr>\n",
       "      <th>19c39fe2af2b547e48708ca005c6ae74</th>\n",
       "      <td>160</td>\n",
       "      <td>False</td>\n",
       "      <td>2063</td>\n",
       "      <td>1903</td>\n",
       "      <td>NaN</td>\n",
       "    </tr>\n",
       "    <tr>\n",
       "      <th>c96d629dc0c39f0c616d1949938a6ba6</th>\n",
       "      <td>1016</td>\n",
       "      <td>True</td>\n",
       "      <td>2147</td>\n",
       "      <td>1131</td>\n",
       "      <td>Radiant</td>\n",
       "    </tr>\n",
       "    <tr>\n",
       "      <th>156c88bff4e9c4668b0f53df3d870f1b</th>\n",
       "      <td>582</td>\n",
       "      <td>False</td>\n",
       "      <td>1927</td>\n",
       "      <td>1345</td>\n",
       "      <td>Dire</td>\n",
       "    </tr>\n",
       "  </tbody>\n",
       "</table>\n",
       "</div>"
      ],
      "text/plain": [
       "                                  game_time  radiant_win  duration  \\\n",
       "match_id_hash                                                        \n",
       "b9c57c450ce74a2af79c9ce96fac144d        658         True      1154   \n",
       "6db558535151ea18ca70a6892197db41         21         True      1503   \n",
       "19c39fe2af2b547e48708ca005c6ae74        160        False      2063   \n",
       "c96d629dc0c39f0c616d1949938a6ba6       1016         True      2147   \n",
       "156c88bff4e9c4668b0f53df3d870f1b        582        False      1927   \n",
       "\n",
       "                                  time_remaining next_roshan_team  \n",
       "match_id_hash                                                      \n",
       "b9c57c450ce74a2af79c9ce96fac144d             496              NaN  \n",
       "6db558535151ea18ca70a6892197db41            1482          Radiant  \n",
       "19c39fe2af2b547e48708ca005c6ae74            1903              NaN  \n",
       "c96d629dc0c39f0c616d1949938a6ba6            1131          Radiant  \n",
       "156c88bff4e9c4668b0f53df3d870f1b            1345             Dire  "
      ]
     },
     "execution_count": 7,
     "metadata": {},
     "output_type": "execute_result"
    }
   ],
   "source": [
    "df_train_targets.head()"
   ]
  },
  {
   "cell_type": "markdown",
   "metadata": {
    "papermill": {
     "duration": 0.046788,
     "end_time": "2022-02-13T23:28:26.547845",
     "exception": false,
     "start_time": "2022-02-13T23:28:26.501057",
     "status": "completed"
    },
    "tags": []
   },
   "source": [
    "## <left>Наша первая модель"
   ]
  },
  {
   "cell_type": "code",
   "execution_count": 8,
   "metadata": {
    "execution": {
     "iopub.execute_input": "2022-02-13T23:28:26.647577Z",
     "iopub.status.busy": "2022-02-13T23:28:26.645040Z",
     "iopub.status.idle": "2022-02-13T23:28:26.671991Z",
     "shell.execute_reply": "2022-02-13T23:28:26.672585Z",
     "shell.execute_reply.started": "2022-02-13T22:54:39.221703Z"
    },
    "papermill": {
     "duration": 0.078234,
     "end_time": "2022-02-13T23:28:26.672769",
     "exception": false,
     "start_time": "2022-02-13T23:28:26.594535",
     "status": "completed"
    },
    "tags": []
   },
   "outputs": [],
   "source": [
    "X = df_train_features.values\n",
    "y = df_train_targets[\"radiant_win\"].values.astype(\"int8\")"
   ]
  },
  {
   "cell_type": "code",
   "execution_count": 9,
   "metadata": {
    "execution": {
     "iopub.execute_input": "2022-02-13T23:28:26.771678Z",
     "iopub.status.busy": "2022-02-13T23:28:26.768845Z",
     "iopub.status.idle": "2022-02-13T23:28:26.870676Z",
     "shell.execute_reply": "2022-02-13T23:28:26.871233Z",
     "shell.execute_reply.started": "2022-02-13T22:54:39.486872Z"
    },
    "papermill": {
     "duration": 0.152481,
     "end_time": "2022-02-13T23:28:26.871414",
     "exception": false,
     "start_time": "2022-02-13T23:28:26.718933",
     "status": "completed"
    },
    "tags": []
   },
   "outputs": [],
   "source": [
    "X_train, X_valid, y_train, y_valid = train_test_split(X, y, \n",
    "                                                      test_size=0.3, \n",
    "                                                      random_state=SEED)"
   ]
  },
  {
   "cell_type": "markdown",
   "metadata": {
    "papermill": {
     "duration": 0.04485,
     "end_time": "2022-02-13T23:28:26.961156",
     "exception": false,
     "start_time": "2022-02-13T23:28:26.916306",
     "status": "completed"
    },
    "tags": []
   },
   "source": [
    "#### Обучим случайный лес"
   ]
  },
  {
   "cell_type": "code",
   "execution_count": 10,
   "metadata": {
    "execution": {
     "iopub.execute_input": "2022-02-13T23:28:27.054420Z",
     "iopub.status.busy": "2022-02-13T23:28:27.053634Z",
     "iopub.status.idle": "2022-02-13T23:28:36.072462Z",
     "shell.execute_reply": "2022-02-13T23:28:36.072928Z",
     "shell.execute_reply.started": "2022-02-13T22:55:21.167897Z"
    },
    "papermill": {
     "duration": 9.067224,
     "end_time": "2022-02-13T23:28:36.073116",
     "exception": false,
     "start_time": "2022-02-13T23:28:27.005892",
     "status": "completed"
    },
    "tags": []
   },
   "outputs": [
    {
     "name": "stdout",
     "output_type": "stream",
     "text": [
      "Wall time: 2.42 s\n"
     ]
    },
    {
     "data": {
      "text/plain": [
       "RandomForestClassifier(max_depth=7, n_estimators=300, n_jobs=-1,\n",
       "                       random_state=10801)"
      ]
     },
     "execution_count": 10,
     "metadata": {},
     "output_type": "execute_result"
    }
   ],
   "source": [
    "%%time\n",
    "rf_model = RandomForestClassifier(n_estimators=300, max_depth=7, n_jobs=-1, random_state=SEED)\n",
    "rf_model.fit(X_train, y_train)"
   ]
  },
  {
   "cell_type": "markdown",
   "metadata": {
    "papermill": {
     "duration": 0.045583,
     "end_time": "2022-02-13T23:28:36.165966",
     "exception": false,
     "start_time": "2022-02-13T23:28:36.120383",
     "status": "completed"
    },
    "tags": []
   },
   "source": [
    "#### Сделаем предсказания и оценим качество на отложенной части данных"
   ]
  },
  {
   "cell_type": "code",
   "execution_count": 11,
   "metadata": {
    "execution": {
     "iopub.execute_input": "2022-02-13T23:28:36.261354Z",
     "iopub.status.busy": "2022-02-13T23:28:36.260637Z",
     "iopub.status.idle": "2022-02-13T23:28:36.574159Z",
     "shell.execute_reply": "2022-02-13T23:28:36.573534Z",
     "shell.execute_reply.started": "2022-02-13T22:55:33.749369Z"
    },
    "papermill": {
     "duration": 0.362593,
     "end_time": "2022-02-13T23:28:36.574368",
     "exception": false,
     "start_time": "2022-02-13T23:28:36.211775",
     "status": "completed"
    },
    "tags": []
   },
   "outputs": [],
   "source": [
    "y_pred = rf_model.predict_proba(X_valid)[:, 1]"
   ]
  },
  {
   "cell_type": "code",
   "execution_count": 12,
   "metadata": {
    "execution": {
     "iopub.execute_input": "2022-02-13T23:28:36.672682Z",
     "iopub.status.busy": "2022-02-13T23:28:36.671834Z",
     "iopub.status.idle": "2022-02-13T23:28:36.680646Z",
     "shell.execute_reply": "2022-02-13T23:28:36.680073Z",
     "shell.execute_reply.started": "2022-02-13T22:55:34.515933Z"
    },
    "papermill": {
     "duration": 0.060422,
     "end_time": "2022-02-13T23:28:36.680786",
     "exception": false,
     "start_time": "2022-02-13T23:28:36.620364",
     "status": "completed"
    },
    "tags": []
   },
   "outputs": [
    {
     "name": "stdout",
     "output_type": "stream",
     "text": [
      "ROC-AUC score на отложенной части: 0.7754387258058622\n"
     ]
    }
   ],
   "source": [
    "y_pred = rf_model.predict_proba(X_valid)[:, 1]\n",
    "valid_score = roc_auc_score(y_valid, y_pred)\n",
    "print(\"ROC-AUC score на отложенной части:\", valid_score)"
   ]
  },
  {
   "cell_type": "markdown",
   "metadata": {
    "papermill": {
     "duration": 0.045999,
     "end_time": "2022-02-13T23:28:36.773926",
     "exception": false,
     "start_time": "2022-02-13T23:28:36.727927",
     "status": "completed"
    },
    "tags": []
   },
   "source": [
    "Посмотрим на accuracy:"
   ]
  },
  {
   "cell_type": "code",
   "execution_count": 13,
   "metadata": {
    "execution": {
     "iopub.execute_input": "2022-02-13T23:28:36.872122Z",
     "iopub.status.busy": "2022-02-13T23:28:36.871439Z",
     "iopub.status.idle": "2022-02-13T23:28:36.877567Z",
     "shell.execute_reply": "2022-02-13T23:28:36.877051Z",
     "shell.execute_reply.started": "2022-02-13T22:55:46.570239Z"
    },
    "papermill": {
     "duration": 0.057673,
     "end_time": "2022-02-13T23:28:36.877714",
     "exception": false,
     "start_time": "2022-02-13T23:28:36.820041",
     "status": "completed"
    },
    "tags": []
   },
   "outputs": [
    {
     "name": "stdout",
     "output_type": "stream",
     "text": [
      "Accuracy score (p > 0.5) на отложенной части: 0.6885383806519453\n"
     ]
    }
   ],
   "source": [
    "valid_accuracy = accuracy_score(y_valid, y_pred > 0.5)\n",
    "print(\"Accuracy score (p > 0.5) на отложенной части:\", valid_accuracy)"
   ]
  },
  {
   "cell_type": "markdown",
   "metadata": {},
   "source": [
    "Мы также можем увеличить количество деревьев в лесу и глубину дерева (вроде этим сложно испортить модель, только увеличить время)"
   ]
  },
  {
   "cell_type": "code",
   "execution_count": 15,
   "metadata": {},
   "outputs": [
    {
     "name": "stdout",
     "output_type": "stream",
     "text": [
      "ROC-AUC score на отложенной части с 1000 деревьев: 0.7890514485881335\n",
      "Accuracy score (p > 0.5) на отложенной части с 1000 деревьев: 0.7067297581493165\n",
      "Wall time: 15.6 s\n"
     ]
    }
   ],
   "source": [
    "%%time\n",
    "rf_model = RandomForestClassifier(n_estimators=1000, max_depth=20, n_jobs=-1, random_state=SEED)\n",
    "rf_model.fit(X_train, y_train)\n",
    "y_pred = rf_model.predict_proba(X_valid)[:, 1]\n",
    "valid_score = roc_auc_score(y_valid, y_pred)\n",
    "print(\"ROC-AUC score на отложенной части с 1000 деревьев:\", valid_score)\n",
    "valid_accuracy = accuracy_score(y_valid, y_pred > 0.5)\n",
    "print(\"Accuracy score (p > 0.5) на отложенной части с 1000 деревьев:\", valid_accuracy)"
   ]
  },
  {
   "cell_type": "markdown",
   "metadata": {},
   "source": [
    "ROC-AUC вырос с 0.7754 до 0.7890 - уже лучше, чем ничего! "
   ]
  },
  {
   "cell_type": "markdown",
   "metadata": {
    "papermill": {
     "duration": 0.046013,
     "end_time": "2022-02-13T23:28:36.970038",
     "exception": false,
     "start_time": "2022-02-13T23:28:36.924025",
     "status": "completed"
    },
    "tags": []
   },
   "source": [
    "## <left>Посылка"
   ]
  },
  {
   "cell_type": "code",
   "execution_count": 16,
   "metadata": {
    "execution": {
     "iopub.execute_input": "2022-02-13T23:28:37.066588Z",
     "iopub.status.busy": "2022-02-13T23:28:37.065534Z",
     "iopub.status.idle": "2022-02-13T23:28:37.589671Z",
     "shell.execute_reply": "2022-02-13T23:28:37.589074Z",
     "shell.execute_reply.started": "2022-02-13T22:55:54.636469Z"
    },
    "papermill": {
     "duration": 0.573434,
     "end_time": "2022-02-13T23:28:37.589831",
     "exception": false,
     "start_time": "2022-02-13T23:28:37.016397",
     "status": "completed"
    },
    "tags": []
   },
   "outputs": [],
   "source": [
    "df_test_features = pd.read_csv(os.path.join(PATH_TO_DATA, \"test_data.csv\"), \n",
    "                                   index_col=\"match_id_hash\")\n",
    "\n",
    "X_test = df_test_features.values\n",
    "y_test_pred = rf_model.predict_proba(X_test)[:, 1]\n",
    "\n",
    "df_submission = pd.DataFrame({\"radiant_win_prob\": y_test_pred}, \n",
    "                                 index=df_test_features.index)"
   ]
  },
  {
   "cell_type": "code",
   "execution_count": 17,
   "metadata": {
    "execution": {
     "iopub.execute_input": "2022-02-13T23:28:37.693733Z",
     "iopub.status.busy": "2022-02-13T23:28:37.693041Z",
     "iopub.status.idle": "2022-02-13T23:28:37.732667Z",
     "shell.execute_reply": "2022-02-13T23:28:37.731983Z",
     "shell.execute_reply.started": "2022-02-13T22:55:58.549750Z"
    },
    "papermill": {
     "duration": 0.09114,
     "end_time": "2022-02-13T23:28:37.732839",
     "exception": false,
     "start_time": "2022-02-13T23:28:37.641699",
     "status": "completed"
    },
    "tags": []
   },
   "outputs": [
    {
     "name": "stdout",
     "output_type": "stream",
     "text": [
      "Файл посылки сохранен, как: submission_2022-04-03_19-54-45.csv\n"
     ]
    }
   ],
   "source": [
    "submission_filename = \"submission_{}.csv\".format(\n",
    "    datetime.datetime.now().strftime(\"%Y-%m-%d_%H-%M-%S\"))\n",
    "df_submission.to_csv(submission_filename)\n",
    "print(\"Файл посылки сохранен, как: {}\".format(submission_filename))"
   ]
  },
  {
   "cell_type": "markdown",
   "metadata": {
    "papermill": {
     "duration": 0.046122,
     "end_time": "2022-02-13T23:28:37.825794",
     "exception": false,
     "start_time": "2022-02-13T23:28:37.779672",
     "status": "completed"
    },
    "tags": []
   },
   "source": [
    "## <left>Кросс-валидация"
   ]
  },
  {
   "cell_type": "markdown",
   "metadata": {
    "papermill": {
     "duration": 0.047147,
     "end_time": "2022-02-13T23:28:37.919675",
     "exception": false,
     "start_time": "2022-02-13T23:28:37.872528",
     "status": "completed"
    },
    "tags": []
   },
   "source": [
    "Во многих случаях кросс-валидация оказывается лучше простого разбиения на test и train. Воспользуемся `ShuffleSplit` чтобы создать 5 70%/30% наборов данных."
   ]
  },
  {
   "cell_type": "code",
   "execution_count": 18,
   "metadata": {
    "execution": {
     "iopub.execute_input": "2022-02-13T23:28:38.018868Z",
     "iopub.status.busy": "2022-02-13T23:28:38.018165Z",
     "iopub.status.idle": "2022-02-13T23:28:38.021030Z",
     "shell.execute_reply": "2022-02-13T23:28:38.020500Z",
     "shell.execute_reply.started": "2022-02-13T22:56:24.879618Z"
    },
    "papermill": {
     "duration": 0.054303,
     "end_time": "2022-02-13T23:28:38.021177",
     "exception": false,
     "start_time": "2022-02-13T23:28:37.966874",
     "status": "completed"
    },
    "tags": []
   },
   "outputs": [],
   "source": [
    "cv = ShuffleSplit(n_splits=5, test_size=0.3, random_state=SEED)"
   ]
  },
  {
   "cell_type": "markdown",
   "metadata": {},
   "source": [
    "Я сразу использую больше деревьев в лесу, чтобы получить чуточку лучший результат"
   ]
  },
  {
   "cell_type": "code",
   "execution_count": 19,
   "metadata": {
    "execution": {
     "iopub.execute_input": "2022-02-13T23:28:38.124812Z",
     "iopub.status.busy": "2022-02-13T23:28:38.123342Z",
     "iopub.status.idle": "2022-02-13T23:29:32.720410Z",
     "shell.execute_reply": "2022-02-13T23:29:32.720941Z",
     "shell.execute_reply.started": "2022-02-13T22:56:42.398744Z"
    },
    "papermill": {
     "duration": 54.652614,
     "end_time": "2022-02-13T23:29:32.721125",
     "exception": false,
     "start_time": "2022-02-13T23:28:38.068511",
     "status": "completed"
    },
    "tags": []
   },
   "outputs": [
    {
     "name": "stdout",
     "output_type": "stream",
     "text": [
      "Wall time: 1min 29s\n"
     ]
    }
   ],
   "source": [
    "%%time\n",
    "rf_model = RandomForestClassifier(n_estimators=1000, max_depth=20, n_jobs=-1, random_state=SEED)\n",
    "cv_scores_rf = cross_val_score(rf_model, X, y, cv=cv, scoring=\"roc_auc\")"
   ]
  },
  {
   "cell_type": "code",
   "execution_count": 23,
   "metadata": {
    "execution": {
     "iopub.execute_input": "2022-02-13T23:29:32.819094Z",
     "iopub.status.busy": "2022-02-13T23:29:32.818432Z",
     "iopub.status.idle": "2022-02-13T23:29:32.823613Z",
     "shell.execute_reply": "2022-02-13T23:29:32.824240Z",
     "shell.execute_reply.started": "2022-02-13T22:57:33.757348Z"
    },
    "papermill": {
     "duration": 0.056037,
     "end_time": "2022-02-13T23:29:32.824411",
     "exception": false,
     "start_time": "2022-02-13T23:29:32.768374",
     "status": "completed"
    },
    "tags": []
   },
   "outputs": [
    {
     "data": {
      "text/plain": [
       "array([0.78905145, 0.79081801, 0.78149819, 0.78693214, 0.78951986])"
      ]
     },
     "execution_count": 23,
     "metadata": {},
     "output_type": "execute_result"
    }
   ],
   "source": [
    "cv_scores_rf"
   ]
  },
  {
   "cell_type": "code",
   "execution_count": 24,
   "metadata": {
    "execution": {
     "iopub.execute_input": "2022-02-13T23:29:32.923448Z",
     "iopub.status.busy": "2022-02-13T23:29:32.922737Z",
     "iopub.status.idle": "2022-02-13T23:29:32.928466Z",
     "shell.execute_reply": "2022-02-13T23:29:32.927601Z",
     "shell.execute_reply.started": "2022-02-13T22:57:38.647385Z"
    },
    "papermill": {
     "duration": 0.056776,
     "end_time": "2022-02-13T23:29:32.928669",
     "exception": false,
     "start_time": "2022-02-13T23:29:32.871893",
     "status": "completed"
    },
    "tags": []
   },
   "outputs": [
    {
     "name": "stdout",
     "output_type": "stream",
     "text": [
      "Среднее значение ROC-AUC на кросс-валидации: 0.7875639297494219\n"
     ]
    }
   ],
   "source": [
    "print(f\"Среднее значение ROC-AUC на кросс-валидации: {cv_scores_rf.mean()}\")"
   ]
  },
  {
   "cell_type": "markdown",
   "metadata": {},
   "source": [
    "Среднее значение примерно такое же, как и в одном лесу -  0.787. "
   ]
  },
  {
   "cell_type": "markdown",
   "metadata": {
    "papermill": {
     "duration": 0.04757,
     "end_time": "2022-02-13T23:29:33.025145",
     "exception": false,
     "start_time": "2022-02-13T23:29:32.977575",
     "status": "completed"
    },
    "tags": []
   },
   "source": [
    "## <left>Что есть в json файлах?"
   ]
  },
  {
   "cell_type": "markdown",
   "metadata": {
    "papermill": {
     "duration": 0.048776,
     "end_time": "2022-02-13T23:29:33.122475",
     "exception": false,
     "start_time": "2022-02-13T23:29:33.073699",
     "status": "completed"
    },
    "tags": []
   },
   "source": [
    "Описание сырых данных можно найти в `train_matches.jsonl` и `test_matches.jsonl`. Каждый файл содержит одну запись для каждого матча в [JSON](https://en.wikipedia.org/wiki/JSON) формате. Его легко превратить в питоновский объект при помощи метода `json.loads`."
   ]
  },
  {
   "cell_type": "code",
   "execution_count": 25,
   "metadata": {
    "execution": {
     "iopub.execute_input": "2022-02-13T23:29:33.224143Z",
     "iopub.status.busy": "2022-02-13T23:29:33.223346Z",
     "iopub.status.idle": "2022-02-13T23:29:33.684926Z",
     "shell.execute_reply": "2022-02-13T23:29:33.684347Z",
     "shell.execute_reply.started": "2022-02-13T22:57:44.043572Z"
    },
    "papermill": {
     "duration": 0.514659,
     "end_time": "2022-02-13T23:29:33.685074",
     "exception": false,
     "start_time": "2022-02-13T23:29:33.170415",
     "status": "completed"
    },
    "tags": []
   },
   "outputs": [],
   "source": [
    "with open(os.path.join(PATH_TO_DATA, \"train_raw_data.jsonl\")) as fin:\n",
    "    # прочтем 419 строку\n",
    "    for i in range(419):\n",
    "        line = fin.readline()\n",
    "    \n",
    "    # переведем JSON в питоновский словарь \n",
    "    match = json.loads(line)"
   ]
  },
  {
   "cell_type": "code",
   "execution_count": 28,
   "metadata": {
    "execution": {
     "iopub.execute_input": "2022-02-13T23:29:33.789538Z",
     "iopub.status.busy": "2022-02-13T23:29:33.788717Z",
     "iopub.status.idle": "2022-02-13T23:29:33.792009Z",
     "shell.execute_reply": "2022-02-13T23:29:33.792529Z",
     "shell.execute_reply.started": "2022-02-13T22:57:45.161882Z"
    },
    "papermill": {
     "duration": 0.057975,
     "end_time": "2022-02-13T23:29:33.792713",
     "exception": false,
     "start_time": "2022-02-13T23:29:33.734738",
     "status": "completed"
    },
    "tags": []
   },
   "outputs": [
    {
     "data": {
      "text/plain": [
       "(0, 5, 5)"
      ]
     },
     "execution_count": 28,
     "metadata": {},
     "output_type": "execute_result"
    }
   ],
   "source": [
    "player = match[\"players\"][9]\n",
    "player[\"kills\"], player[\"deaths\"], player[\"assists\"]"
   ]
  },
  {
   "cell_type": "code",
   "execution_count": 62,
   "metadata": {},
   "outputs": [
    {
     "name": "stdout",
     "output_type": "stream",
     "text": [
      "{'player_slot': 0, 'hero_id': 31, 'hero_name': 'npc_dota_hero_lich', 'account_id_hash': '1c2500195e6ab646fc9371344724aa77', 'ability_upgrades': [{'ability': 5136, 'time': 358, 'level': 1}, {'ability': 5134, 'time': 437, 'level': 2}, {'ability': 5136, 'time': 511, 'level': 3}, {'ability': 5134, 'time': 578, 'level': 4}, {'ability': 5134, 'time': 637, 'level': 5}, {'ability': 5137, 'time': 713, 'level': 6}, {'ability': 5135, 'time': 764, 'level': 7}, {'ability': 5134, 'time': 839, 'level': 8}, {'ability': 5136, 'time': 912, 'level': 9}, {'ability': 6034, 'time': 981, 'level': 10}, {'ability': 5136, 'time': 1038, 'level': 11}, {'ability': 5137, 'time': 1106, 'level': 12}, {'ability': 5135, 'time': 1185, 'level': 13}, {'ability': 5135, 'time': 1417, 'level': 14}, {'ability': 5135, 'time': 1689, 'level': 15}, {'ability': 6112, 'time': 1875, 'level': 16}], 'obs_placed': 1, 'sen_placed': 0, 'creeps_stacked': 0, 'camps_stacked': 0, 'rune_pickups': 3, 'firstblood_claimed': 0, 'teamfight_participation': 0.529, 'towers_killed': 1, 'roshans_killed': 0, 'observers_placed': 1, 'stuns': 0, 'max_hero_hit': {'type': 'max_hero_hit', 'time': 1947.733, 'max': True, 'inflictor': 'lich_chain_frost', 'unit': 'npc_dota_hero_lich', 'key': 'npc_dota_hero_treant', 'value': 367, 'slot': 0, 'player_slot': 0}, 'times': [0, 60, 120, 180, 240, 300, 360, 420, 480, 540, 600, 660, 720, 780, 840, 900, 960, 1020, 1080, 1140, 1200, 1260, 1320, 1380, 1440, 1500, 1560, 1620, 1680, 1740, 1800, 1860, 1920, 1980, 2040], 'gold_t': [1, 171, 381, 548, 638, 828, 1255, 1597, 1905, 2213, 2631, 3380, 3666, 4090, 4440, 4859, 5070, 5361, 5887, 6501, 6592, 6852, 7343, 7490, 7824, 8020, 8495, 8586, 8990, 9622, 10192, 10283, 11346, 12060, 12351], 'lh_t': [0, 0, 3, 5, 5, 7, 8, 12, 17, 22, 29, 36, 40, 45, 51, 54, 54, 55, 58, 60, 60, 62, 63, 64, 65, 67, 72, 72, 75, 77, 81, 81, 83, 85, 85], 'dn_t': [0, 0, 1, 1, 2, 2, 2, 2, 6, 10, 15, 18, 21, 22, 24, 24, 24, 24, 24, 24, 24, 24, 24, 24, 24, 24, 24, 24, 24, 24, 24, 24, 24, 24, 24], 'xp_t': [0, 100, 596, 836, 1411, 1856, 2365, 3197, 3736, 4287, 4966, 5879, 6539, 7123, 7727, 8276, 8280, 8467, 9034, 9391, 9565, 9961, 10143, 10581, 11324, 11543, 12005, 12208, 12733, 14594, 15638, 15695, 16318, 17861, 17861], 'obs_log': [{'time': -48.155, 'tick': 8610, 'type': 'obs_log', 'key': '[88, 154]', 'slot': 0, 'x': 88, 'y': 154, 'z': 130, 'entityleft': False, 'ehandle': 16122477, 'player_slot': 0}], 'sen_log': [], 'obs_left_log': [{'time': 321.621, 'tick': 19706, 'type': 'obs_left_log', 'key': '[88, 154]', 'slot': 0, 'x': 88, 'y': 154, 'z': 130, 'entityleft': True, 'ehandle': 16122477, 'player_slot': 0}], 'sen_left_log': [], 'purchase_log': [{'time': -89.945, 'key': 'wind_lace'}, {'time': -89.945, 'key': 'branches'}, {'time': -89.945, 'key': 'branches'}, {'time': -89.945, 'key': 'tango'}, {'time': -89.945, 'key': 'faerie_fire'}, {'time': -89.945, 'key': 'tpscroll'}, {'time': 152.163, 'key': 'boots'}, {'time': 297.694, 'key': 'magic_stick'}, {'time': 297.761, 'key': 'enchanted_mango'}, {'time': 350.581, 'key': 'magic_wand'}, {'time': 635.112, 'key': 'gloves'}, {'time': 647.009, 'key': 'hand_of_midas'}, {'time': 836.962, 'key': 'tpscroll'}, {'time': 871.687, 'key': 'tpscroll'}, {'time': 956.2, 'key': 'helm_of_iron_will'}, {'time': 956.366, 'key': 'circlet'}, {'time': 956.5, 'key': 'mantle'}, {'time': 956.666, 'key': 'null_talisman'}, {'time': 956.8, 'key': 'circlet'}, {'time': 956.933, 'key': 'mantle'}, {'time': 957.1, 'key': 'null_talisman'}, {'time': 1093.633, 'key': 'veil_of_discord'}, {'time': 1230.733, 'key': 'tpscroll'}, {'time': 1298.783, 'key': 'tpscroll'}, {'time': 1369.932, 'key': 'arcane_boots'}, {'time': 1369.932, 'key': 'energy_booster'}, {'time': 1657.762, 'key': 'ring_of_regen'}, {'time': 1657.929, 'key': 'branches'}, {'time': 1658.062, 'key': 'headdress'}, {'time': 1658.195, 'key': 'chainmail'}, {'time': 1658.362, 'key': 'branches'}, {'time': 1658.495, 'key': 'buckler'}, {'time': 1699.889, 'key': 'mekansm'}, {'time': 2010.581, 'key': 'guardian_greaves'}, {'time': 2045.801, 'key': 'tpscroll'}], 'kills_log': [{'time': 323.454, 'key': 'npc_dota_hero_faceless_void'}, {'time': 1956.396, 'key': 'npc_dota_hero_storm_spirit'}], 'buyback_log': [], 'runes_log': [{'time': 360.079, 'key': 5}, {'time': 1083.102, 'key': 5}, {'time': 1089.967, 'key': 5}], 'obs': {'88': {'154': 1}}, 'sen': {}, 'actions': {'1': 9533, '2': 237, '3': 9, '4': 806, '5': 19, '6': 161, '7': 3, '8': 41, '10': 91, '11': 15, '15': 5, '16': 32, '19': 13, '27': 1, '33': 91}, 'pings': {}, 'purchase': {'wind_lace': 1, 'branches': 4, 'tango': 1, 'faerie_fire': 1, 'tpscroll': 6, 'boots': 1, 'magic_stick': 1, 'enchanted_mango': 1, 'magic_wand': 1, 'recipe_hand_of_midas': 1, 'gloves': 1, 'hand_of_midas': 1, 'helm_of_iron_will': 1, 'circlet': 2, 'mantle': 2, 'null_talisman': 2, 'recipe_null_talisman': 2, 'recipe_veil_of_discord': 1, 'veil_of_discord': 1, 'arcane_boots': 1, 'energy_booster': 1, 'ring_of_regen': 1, 'headdress': 1, 'recipe_headdress': 1, 'chainmail': 1, 'buckler': 1, 'recipe_buckler': 1, 'mekansm': 1, 'recipe_mekansm': 1, 'guardian_greaves': 1, 'recipe_guardian_greaves': 1}, 'gold_reasons': {'0': 1028, '1': -961, '11': 1975, '12': 1209, '13': 5323, '14': 150, '15': 175}, 'xp_reasons': {'0': 1492, '1': 4914, '2': 10758, '3': 704}, 'killed': {'npc_dota_creep_badguys_melee': 6965, 'npc_dota_creep_goodguys_melee': 1354, 'npc_dota_creep_badguys_ranged': 3538, 'npc_dota_hero_faceless_void': 114, 'npc_dota_creep_goodguys_ranged': 301, 'npc_dota_badguys_siege': 875, 'npc_dota_neutral_centaur_khan': 1100, 'npc_dota_neutral_centaur_outrunner': 158, 'npc_dota_neutral_forest_troll_high_priest': 88, 'npc_dota_neutral_mud_golem': 800, 'npc_dota_badguys_tower1_top': 19, 'npc_dota_neutral_dark_troll_warlord': 1100, 'npc_dota_neutral_satyr_hellcaller': 1100, 'npc_dota_neutral_satyr_trickster': 197, 'npc_dota_neutral_satyr_soulstealer': 219, 'npc_dota_neutral_ogre_magi': 158, 'npc_dota_neutral_ogre_mauler': 222, 'npc_dota_badguys_melee_rax_bot': 65, 'npc_dota_hero_storm_spirit': 154}, 'item_uses': {'ward_observer': 1, 'tango': 3, 'hand_of_midas': 11, 'tpscroll': 5, 'magic_wand': 5, 'veil_of_discord': 11, 'arcane_boots': 9, 'faerie_fire': 1, 'mekansm': 3}, 'ability_uses': {'lich_dark_ritual': 26, 'lich_frost_nova': 30, 'lich_frost_armor': 63, 'lich_chain_frost': 7}, 'hero_hits': {'null': 46, 'lich_frost_nova': 35, 'lich_chain_frost': 16}, 'damage': {'npc_dota_creep_badguys_melee': 18199, 'npc_dota_hero_treant': 1781, 'npc_dota_creep_goodguys_melee': 2835, 'npc_dota_hero_faceless_void': 4473, 'npc_dota_creep_badguys_ranged': 4773, 'npc_dota_creep_goodguys_ranged': 301, 'npc_dota_badguys_siege': 875, 'npc_dota_neutral_centaur_khan': 1100, 'npc_dota_neutral_centaur_outrunner': 800, 'npc_dota_neutral_forest_troll_high_priest': 411, 'npc_dota_hero_leshrac': 1432, 'npc_dota_neutral_mud_golem': 800, 'npc_dota_hero_storm_spirit': 597, 'npc_dota_badguys_tower1_top': 376, 'npc_dota_hero_dragon_knight': 1676, 'npc_dota_badguys_tower1_bot': 71, 'npc_dota_neutral_dark_troll_warlord': 1100, 'npc_dota_neutral_dark_troll': 524, 'npc_dota_neutral_satyr_hellcaller': 1100, 'npc_dota_neutral_satyr_trickster': 424, 'npc_dota_neutral_satyr_soulstealer': 679, 'npc_dota_neutral_alpha_wolf': 369, 'npc_dota_neutral_giant_wolf': 158, 'npc_dota_neutral_ogre_magi': 158, 'npc_dota_neutral_ogre_mauler': 222, 'npc_dota_badguys_tower2_top': 53, 'npc_dota_badguys_tower3_bot': 286, 'npc_dota_badguys_melee_rax_bot': 256}, 'damage_taken': {'npc_dota_hero_treant': 328, 'npc_dota_creep_badguys_melee': 579, 'npc_dota_creep_badguys_ranged': 300, 'npc_dota_hero_faceless_void': 2171, 'npc_dota_badguys_tower1_top': 763, 'npc_dota_badguys_siege': 24, 'npc_dota_neutral_centaur_outrunner': 61, 'npc_dota_neutral_forest_troll_berserker': 22, 'npc_dota_badguys_tower1_bot': 122, 'npc_dota_hero_leshrac': 2020, 'npc_dota_hero_storm_spirit': 4702, 'npc_dota_hero_dragon_knight': 2338, 'npc_dota_neutral_dark_troll': 14, 'npc_dota_neutral_ogre_mauler': 16}, 'damage_inflictor': {'null': 1993, 'lich_frost_nova': 3254, 'lich_chain_frost': 4712}, 'runes': {'5': 3}, 'killed_by': {'npc_dota_hero_storm_spirit': 1, 'npc_dota_hero_faceless_void': 2, 'npc_dota_hero_dragon_knight': 1}, 'kill_streaks': {}, 'multi_kills': {}, 'life_state': {'0': 3626, '1': 19, '2': 453}, 'healing': {'npc_dota_hero_lich': 1360, 'npc_dota_hero_antimage': 558, 'illusion_npc_dota_hero_antimage': 250, 'npc_dota_hero_pudge': 108}, 'damage_inflictor_received': {'null': 4351, 'leshrac_pulse_nova': 657, 'leshrac_lightning_storm': 555, 'leshrac_diabolic_edict': 312, 'storm_spirit_ball_lightning': 1465, 'dragon_knight_dragon_tail': 100, 'dragon_knight_breathe_fire': 926, 'storm_spirit_overload': 756, 'dragon_knight_elder_dragon_form': 676, 'storm_spirit_static_remnant': 934, 'leshrac_split_earth': 416, 'orchid': 377, 'cyclone': 34}, 'randomed': False, 'pred_vict': False, 'gold': 12364, 'lh': 85, 'xp': 17861, 'x': 84, 'y': 84, 'hero_inventory': [{'id': 'item_veil_of_discord', 'cooldown': 0}, {'id': 'item_guardian_greaves', 'cooldown': 0}, {'id': 'item_hand_of_midas', 'cooldown': 0}, {'id': 'item_tpscroll', 'num_charges': 1, 'cooldown': 0}, {'id': 'item_wind_lace', 'cooldown': 0}, {'id': 'item_magic_wand', 'num_charges': 9, 'cooldown': 0}], 'hero_stash': [], 'health': 1695, 'max_health': 1695, 'max_mana': 1524.939, 'level': 20, 'kills': 2, 'deaths': 4, 'assists': 16, 'denies': 24, 'nearby_creep_death_count': 297} \n",
      " \n",
      " \n",
      "\n",
      "{'player_slot': 1, 'hero_id': 14, 'hero_name': 'npc_dota_hero_pudge', 'account_id_hash': '370ca5ecc11a0b6642ff57b2c11d7e9b', 'ability_upgrades': [{'ability': 5076, 'time': 362, 'level': 1}, {'ability': 5075, 'time': 467, 'level': 2}, {'ability': 5075, 'time': 620, 'level': 3}, {'ability': 5076, 'time': 775, 'level': 4}, {'ability': 5075, 'time': 942, 'level': 5}, {'ability': 5077, 'time': 990, 'level': 6}, {'ability': 5075, 'time': 999, 'level': 7}, {'ability': 5076, 'time': 1041, 'level': 8}, {'ability': 5076, 'time': 1184, 'level': 9}, {'ability': 6245, 'time': 1353, 'level': 10}, {'ability': 5074, 'time': 1575, 'level': 11}, {'ability': 5077, 'time': 1613, 'level': 12}, {'ability': 5074, 'time': 1617, 'level': 13}, {'ability': 5074, 'time': 1782, 'level': 14}, {'ability': 6560, 'time': 1897, 'level': 15}], 'obs_placed': 8, 'sen_placed': 5, 'creeps_stacked': 0, 'camps_stacked': 0, 'rune_pickups': 8, 'firstblood_claimed': 0, 'teamfight_participation': 0.618, 'towers_killed': 0, 'roshans_killed': 0, 'observers_placed': 8, 'stuns': 21.977, 'max_hero_hit': {'type': 'max_hero_hit', 'time': 1922.314, 'max': True, 'inflictor': 'pudge_meat_hook', 'unit': 'npc_dota_hero_pudge', 'key': 'npc_dota_hero_treant', 'value': 370, 'slot': 1, 'player_slot': 1}, 'times': [0, 60, 120, 180, 240, 300, 360, 420, 480, 540, 600, 660, 720, 780, 840, 900, 960, 1020, 1080, 1140, 1200, 1260, 1320, 1380, 1440, 1500, 1560, 1620, 1680, 1740, 1800, 1860, 1920, 1980, 2040], 'gold_t': [1, 201, 351, 743, 833, 1116, 1325, 1416, 1559, 1650, 1924, 2544, 2695, 2896, 2987, 3275, 3486, 3807, 4252, 4384, 4475, 5286, 5785, 5876, 6294, 6644, 6874, 7034, 7157, 7822, 8785, 9056, 10020, 10506, 10797], 'lh_t': [0, 0, 1, 1, 1, 2, 3, 3, 3, 3, 5, 7, 8, 9, 9, 9, 9, 14, 14, 15, 15, 15, 19, 19, 20, 23, 25, 28, 28, 36, 45, 45, 51, 51, 51], 'dn_t': [0, 0, 0, 0, 0, 1, 3, 3, 3, 3, 3, 4, 4, 4, 4, 4, 4, 4, 4, 4, 4, 4, 4, 4, 4, 4, 4, 4, 4, 5, 5, 5, 5, 5, 5], 'xp_t': [0, 44, 269, 472, 593, 716, 934, 1113, 1414, 1470, 1777, 3491, 3731, 4137, 4354, 4715, 4742, 5196, 5735, 5819, 5842, 7887, 8223, 8523, 9223, 9532, 10699, 10885, 11313, 11864, 12439, 12960, 13231, 14675, 15645], 'obs_log': [{'time': 80.347, 'tick': 12466, 'type': 'obs_log', 'key': '[172, 100]', 'slot': 1, 'x': 172, 'y': 100, 'z': 130, 'entityleft': False, 'ehandle': 12928141, 'player_slot': 1}, {'time': 513.708, 'tick': 25470, 'type': 'obs_log', 'key': '[122, 120]', 'slot': 1, 'x': 122, 'y': 120, 'z': 128, 'entityleft': False, 'ehandle': 5064149, 'player_slot': 1}, {'time': 775.911, 'tick': 33338, 'type': 'obs_log', 'key': '[172, 100]', 'slot': 1, 'x': 172, 'y': 100, 'z': 130, 'entityleft': False, 'ehandle': 4408812, 'player_slot': 1}, {'time': 881.685, 'tick': 36512, 'type': 'obs_log', 'key': '[166, 122]', 'slot': 1, 'x': 166, 'y': 122, 'z': 132, 'entityleft': False, 'ehandle': 5539074, 'player_slot': 1}, {'time': 989.392, 'tick': 39744, 'type': 'obs_log', 'key': '[88, 142]', 'slot': 1, 'x': 88, 'y': 142, 'z': 132, 'entityleft': False, 'ehandle': 15353233, 'player_slot': 1}, {'time': 1205.339, 'tick': 46224, 'type': 'obs_log', 'key': '[132, 106]', 'slot': 1, 'x': 132, 'y': 106, 'z': 130, 'entityleft': False, 'ehandle': 9076963, 'player_slot': 1}, {'time': 1544.59, 'tick': 56404, 'type': 'obs_log', 'key': '[122, 120]', 'slot': 1, 'x': 122, 'y': 120, 'z': 130, 'entityleft': False, 'ehandle': 15959458, 'player_slot': 1}, {'time': 1664.694, 'tick': 60008, 'type': 'obs_log', 'key': '[104, 156]', 'slot': 1, 'x': 104, 'y': 156, 'z': 130, 'entityleft': False, 'ehandle': 49898, 'player_slot': 1}], 'sen_log': [{'time': -43.089, 'tick': 8762, 'type': 'sen_log', 'key': '[172, 88]', 'slot': 1, 'x': 172, 'y': 88, 'z': 130, 'entityleft': False, 'ehandle': 3916509, 'player_slot': 1}, {'time': 773.911, 'tick': 33278, 'type': 'sen_log', 'key': '[172, 96]', 'slot': 1, 'x': 172, 'y': 96, 'z': 130, 'entityleft': False, 'ehandle': 13944168, 'player_slot': 1}, {'time': 988.192, 'tick': 39708, 'type': 'sen_log', 'key': '[86, 142]', 'slot': 1, 'x': 86, 'y': 142, 'z': 132, 'entityleft': False, 'ehandle': 5702418, 'player_slot': 1}, {'time': 1164.882, 'tick': 45010, 'type': 'sen_log', 'key': '[174, 102]', 'slot': 1, 'x': 174, 'y': 102, 'z': 130, 'entityleft': False, 'ehandle': 8783284, 'player_slot': 1}, {'time': 1629.169, 'tick': 58942, 'type': 'sen_log', 'key': '[120, 120]', 'slot': 1, 'x': 120, 'y': 120, 'z': 130, 'entityleft': False, 'ehandle': 5784743, 'player_slot': 1}], 'obs_left_log': [{'time': 446.191, 'tick': 23444, 'type': 'obs_left_log', 'key': '[172, 100]', 'slot': 1, 'x': 172, 'y': 100, 'z': 130, 'entityleft': True, 'ehandle': 12928141, 'player_slot': 1}, {'time': 879.552, 'tick': 36448, 'type': 'obs_left_log', 'key': '[122, 120]', 'slot': 1, 'x': 122, 'y': 120, 'z': 128, 'entityleft': True, 'ehandle': 5064149, 'player_slot': 1}, {'time': 1141.755, 'tick': 44316, 'type': 'obs_left_log', 'key': '[172, 100]', 'slot': 1, 'x': 172, 'y': 100, 'z': 130, 'entityleft': True, 'ehandle': 4408812, 'player_slot': 1}, {'time': 1247.529, 'tick': 47490, 'type': 'obs_left_log', 'key': '[166, 122]', 'slot': 1, 'x': 166, 'y': 122, 'z': 132, 'entityleft': True, 'ehandle': 5539074, 'player_slot': 1}, {'time': 1355.236, 'tick': 50722, 'type': 'obs_left_log', 'key': '[88, 142]', 'slot': 1, 'x': 88, 'y': 142, 'z': 132, 'entityleft': True, 'ehandle': 15353233, 'player_slot': 1}, {'time': 1571.183, 'tick': 57202, 'type': 'obs_left_log', 'key': '[132, 106]', 'slot': 1, 'x': 132, 'y': 106, 'z': 130, 'entityleft': True, 'ehandle': 9076963, 'player_slot': 1}, {'time': 1910.406, 'tick': 67356, 'type': 'obs_left_log', 'key': '[122, 120]', 'slot': 1, 'x': 122, 'y': 120, 'z': 130, 'entityleft': True, 'ehandle': 15959458, 'player_slot': 1}, {'time': 2030.482, 'tick': 70946, 'type': 'obs_left_log', 'key': '[104, 156]', 'slot': 1, 'x': 104, 'y': 156, 'z': 130, 'entityleft': True, 'ehandle': 49898, 'player_slot': 1}], 'sen_left_log': [{'time': 202.717, 'tick': 16138, 'type': 'sen_left_log', 'key': '[172, 88]', 'slot': 1, 'x': 172, 'y': 88, 'z': 130, 'entityleft': True, 'ehandle': 3916509, 'player_slot': 1}, {'time': 1019.784, 'tick': 40656, 'type': 'sen_left_log', 'key': '[172, 96]', 'slot': 1, 'x': 172, 'y': 96, 'z': 130, 'entityleft': True, 'ehandle': 13944168, 'player_slot': 1}, {'time': 1233.999, 'tick': 47084, 'type': 'sen_left_log', 'key': '[86, 142]', 'slot': 1, 'x': 86, 'y': 142, 'z': 132, 'entityleft': True, 'ehandle': 5702418, 'player_slot': 1}, {'time': 1410.756, 'tick': 52388, 'type': 'sen_left_log', 'key': '[174, 102]', 'slot': 1, 'x': 174, 'y': 102, 'z': 130, 'entityleft': True, 'ehandle': 8783284, 'player_slot': 1}, {'time': 1875.019, 'tick': 66298, 'type': 'sen_left_log', 'key': '[120, 120]', 'slot': 1, 'x': 120, 'y': 120, 'z': 130, 'entityleft': True, 'ehandle': 5784743, 'player_slot': 1}], 'purchase_log': [{'time': -89.945, 'key': 'wind_lace'}, {'time': -89.945, 'key': 'ward_sentry'}, {'time': -89.945, 'key': 'tango'}, {'time': -89.945, 'key': 'clarity'}, {'time': -89.945, 'key': 'tpscroll'}, {'time': 61.852, 'key': 'ward_observer'}, {'time': 62.985, 'key': 'tpscroll'}, {'time': 184.688, 'key': 'boots'}, {'time': 247.273, 'key': 'ring_of_regen'}, {'time': 277.766, 'key': 'clarity'}, {'time': 330.286, 'key': 'ward_observer'}, {'time': 330.786, 'key': 'smoke_of_deceit'}, {'time': 377.541, 'key': 'tpscroll'}, {'time': 400.736, 'key': 'tranquil_boots'}, {'time': 486.481, 'key': 'tpscroll'}, {'time': 680.667, 'key': 'magic_stick'}, {'time': 680.7, 'key': 'branches'}, {'time': 680.767, 'key': 'branches'}, {'time': 680.767, 'key': 'magic_wand'}, {'time': 680.767, 'key': 'enchanted_mango'}, {'time': 681.367, 'key': 'ward_observer'}, {'time': 681.534, 'key': 'ward_observer'}, {'time': 681.834, 'key': 'smoke_of_deceit'}, {'time': 681.967, 'key': 'smoke_of_deceit'}, {'time': 696.797, 'key': 'tpscroll'}, {'time': 696.963, 'key': 'tpscroll'}, {'time': 706.561, 'key': 'dust'}, {'time': 708.327, 'key': 'ward_sentry'}, {'time': 734.187, 'key': 'ward_dispenser'}, {'time': 901.913, 'key': 'clarity'}, {'time': 902.08, 'key': 'clarity'}, {'time': 903.546, 'key': 'infused_raindrop'}, {'time': 906.045, 'key': 'ward_observer'}, {'time': 906.179, 'key': 'ward_dispenser'}, {'time': 906.179, 'key': 'ward_sentry'}, {'time': 955.8, 'key': 'tpscroll'}, {'time': 956.466, 'key': 'circlet'}, {'time': 1030.415, 'key': 'ring_of_protection'}, {'time': 1031.615, 'key': 'ward_observer'}, {'time': 1031.848, 'key': 'ward_dispenser'}, {'time': 1031.848, 'key': 'ward_sentry'}, {'time': 1056.775, 'key': 'urn_of_shadows'}, {'time': 1119.76, 'key': 'tpscroll'}, {'time': 1120.093, 'key': 'tpscroll'}, {'time': 1258.126, 'key': 'tome_of_knowledge'}, {'time': 1299.183, 'key': 'vitality_booster'}, {'time': 1341.006, 'key': 'wind_lace'}, {'time': 1510.864, 'key': 'ward_observer'}, {'time': 1511.464, 'key': 'smoke_of_deceit'}, {'time': 1527.127, 'key': 'spirit_vessel'}, {'time': 1602.375, 'key': 'ward_observer'}, {'time': 1602.609, 'key': 'ward_dispenser'}, {'time': 1602.609, 'key': 'ward_sentry'}, {'time': 1602.875, 'key': 'smoke_of_deceit'}, {'time': 1827.056, 'key': 'void_stone'}, {'time': 1884.853, 'key': 'aether_lens'}, {'time': 1884.853, 'key': 'energy_booster'}, {'time': 1982.418, 'key': 'tome_of_knowledge'}, {'time': 2036.971, 'key': 'tpscroll'}], 'kills_log': [{'time': 155.895, 'key': 'npc_dota_hero_leshrac'}, {'time': 171.258, 'key': 'npc_dota_hero_dragon_knight'}, {'time': 628.68, 'key': 'npc_dota_hero_leshrac'}, {'time': 923.908, 'key': 'npc_dota_hero_pudge'}, {'time': 1020.251, 'key': 'npc_dota_hero_treant'}, {'time': 1411.722, 'key': 'npc_dota_hero_dragon_knight'}, {'time': 1950.209, 'key': 'npc_dota_hero_treant'}], 'buyback_log': [], 'runes_log': [{'time': 240.441, 'key': 5}, {'time': 245.973, 'key': 5}, {'time': 873.287, 'key': 5}, {'time': 1478.006, 'key': 5}, {'time': 1746.983, 'key': 5}, {'time': 1752.803, 'key': 5}, {'time': 1806.452, 'key': 1}, {'time': 1810.934, 'key': 5}], 'obs': {'88': {'142': 1}, '104': {'156': 1}, '122': {'120': 2}, '132': {'106': 1}, '166': {'122': 1}, '172': {'100': 2}}, 'sen': {'86': {'142': 1}, '120': {'120': 1}, '172': {'88': 1, '96': 1}, '174': {'102': 1}}, 'actions': {'1': 4028, '2': 4, '4': 252, '5': 59, '6': 31, '7': 6, '8': 31, '9': 129, '10': 277, '11': 15, '12': 1, '13': 1, '14': 3, '15': 12, '16': 53, '19': 18, '24': 1, '27': 6}, 'pings': {'0': 44}, 'purchase': {'wind_lace': 2, 'ward_sentry': 5, 'tango': 1, 'clarity': 4, 'tpscroll': 10, 'ward_observer': 8, 'boots': 1, 'ring_of_regen': 1, 'smoke_of_deceit': 5, 'tranquil_boots': 1, 'magic_stick': 1, 'branches': 2, 'magic_wand': 1, 'enchanted_mango': 1, 'dust': 1, 'ward_dispenser': 4, 'infused_raindrop': 1, 'circlet': 1, 'ring_of_protection': 1, 'recipe_urn_of_shadows': 1, 'urn_of_shadows': 1, 'tome_of_knowledge': 2, 'vitality_booster': 1, 'recipe_spirit_vessel': 1, 'spirit_vessel': 1, 'void_stone': 1, 'recipe_aether_lens': 1, 'aether_lens': 1, 'energy_booster': 1}, 'gold_reasons': {'0': 1640, '1': -802, '11': 1675, '12': 2629, '13': 2120, '14': 150, '15': 175}, 'xp_reasons': {'0': 2954, '1': 4972, '2': 7903}, 'killed': {'npc_dota_creep_badguys_ranged': 684, 'npc_dota_hero_leshrac': 61, 'npc_dota_hero_dragon_knight': 372, 'npc_dota_creep_goodguys_melee': 293, 'npc_dota_creep_badguys_melee': 1099, 'npc_dota_creep_goodguys_ranged': 79, 'npc_dota_hero_treant': 46, 'npc_dota_neutral_polar_furbolg_ursa_warrior': 138, 'npc_dota_neutral_polar_furbolg_champion': 219, 'npc_dota_neutral_centaur_outrunner': 65, 'npc_dota_neutral_centaur_khan': 165, 'npc_dota_neutral_gnoll_assassin': 179, 'npc_dota_neutral_harpy_scout': 163, 'npc_dota_neutral_harpy_storm': 31, 'npc_dota_neutral_mud_golem': 86, 'npc_dota_neutral_mud_golem_split': 312, 'npc_dota_neutral_satyr_trickster': 182, 'npc_dota_neutral_satyr_soulstealer': 62}, 'item_uses': {'ward_sentry': 1, 'tango': 6, 'tpscroll': 9, 'ward_observer': 8, 'clarity': 4, 'smoke_of_deceit': 5, 'tome_of_knowledge': 3, 'ward_dispenser': 7, 'magic_wand': 5, 'dust': 2, 'urn_of_shadows': 4, 'spirit_vessel': 4}, 'ability_uses': {'pudge_rot': 121, 'pudge_meat_hook': 24, 'pudge_dismember': 14}, 'hero_hits': {'pudge_rot': 1374, 'null': 29, 'pudge_meat_hook': 12, 'pudge_dismember': 10, 'urn_of_shadows': 7, 'spirit_vessel': 9}, 'damage': {'npc_dota_hero_dragon_knight': 5266, 'npc_dota_hero_pudge': 14323, 'npc_dota_hero_leshrac': 1395, 'npc_dota_creep_badguys_ranged': 2619, 'npc_dota_creep_badguys_melee': 8951, 'npc_dota_creep_goodguys_melee': 408, 'npc_dota_hero_storm_spirit': 1025, 'npc_dota_hero_treant': 2683, 'npc_dota_creep_goodguys_ranged': 79, 'npc_dota_badguys_siege': 539, 'illusion_npc_dota_hero_storm_spirit': 530, 'npc_dota_badguys_tower2_mid': 231, 'npc_dota_neutral_polar_furbolg_champion': 1419, 'npc_dota_neutral_polar_furbolg_ursa_warrior': 1943, 'npc_dota_neutral_centaur_outrunner': 1070, 'npc_dota_neutral_centaur_khan': 2293, 'npc_dota_neutral_gnoll_assassin': 1107, 'npc_dota_neutral_harpy_scout': 814, 'npc_dota_neutral_harpy_storm': 558, 'npc_dota_neutral_mud_golem': 1565, 'npc_dota_neutral_mud_golem_split': 1077, 'npc_dota_badguys_range_rax_bot': 173, 'npc_dota_hero_faceless_void': 92, 'npc_dota_neutral_satyr_soulstealer': 1217, 'npc_dota_neutral_satyr_trickster': 616}, 'damage_taken': {'npc_dota_hero_pudge': 14323, 'npc_dota_hero_leshrac': 5006, 'npc_dota_hero_dragon_knight': 2221, 'npc_dota_creep_badguys_melee': 881, 'npc_dota_creep_badguys_ranged': 405, 'npc_dota_hero_storm_spirit': 3005, 'npc_dota_badguys_siege': 58, 'npc_dota_hero_faceless_void': 1571, 'npc_dota_neutral_polar_furbolg_champion': 243, 'npc_dota_neutral_centaur_outrunner': 50, 'npc_dota_neutral_centaur_khan': 177, 'npc_dota_neutral_satyr_trickster': 10, 'npc_dota_neutral_satyr_soulstealer': 48, 'npc_dota_neutral_gnoll_assassin': 54, 'dota_unknown': 2, 'npc_dota_neutral_harpy_storm': 22, 'npc_dota_neutral_harpy_scout': 33, 'npc_dota_neutral_mud_golem': 46, 'npc_dota_neutral_mud_golem_split': 14, 'npc_dota_hero_treant': 87}, 'damage_inflictor': {'pudge_rot': 4934, 'null': 1148, 'pudge_meat_hook': 3142, 'pudge_dismember': 616, 'urn_of_shadows': 112, 'spirit_vessel': 509}, 'runes': {'1': 1, '5': 7}, 'killed_by': {'npc_dota_hero_leshrac': 3, 'npc_dota_hero_storm_spirit': 1, 'npc_dota_hero_dragon_knight': 1, 'npc_dota_hero_pudge': 1, 'npc_dota_hero_faceless_void': 1}, 'kill_streaks': {}, 'multi_kills': {'2': 1}, 'life_state': {'0': 3745, '1': 27, '2': 326}, 'healing': {'npc_dota_hero_pudge': 6465, 'npc_dota_hero_antimage': 280}, 'damage_inflictor_received': {'leshrac_lightning_storm': 1295, 'null': 4300, 'dragon_knight_breathe_fire': 796, 'storm_spirit_static_remnant': 481, 'storm_spirit_overload': 1013, 'leshrac_split_earth': 843, 'dragon_knight_dragon_tail': 110, 'storm_spirit_ball_lightning': 379, 'dragon_knight_elder_dragon_form': 391, 'leshrac_diabolic_edict': 273, 'leshrac_pulse_nova': 2009}, 'randomed': False, 'pred_vict': False, 'gold': 10893, 'lh': 55, 'xp': 15823, 'x': 132, 'y': 92, 'hero_inventory': [{'id': 'item_spirit_vessel', 'num_charges': 3, 'cooldown': 0}, {'id': 'item_aether_lens', 'cooldown': 0}, {'id': 'item_tpscroll', 'num_charges': 1, 'cooldown': 70.4}, {'id': 'item_tranquil_boots', 'num_charges': 1, 'cooldown': 12.2}, {'id': 'item_magic_wand', 'num_charges': 9, 'cooldown': 0}], 'hero_stash': [], 'health': 2503, 'max_health': 2830, 'max_mana': 1064.938, 'level': 19, 'kills': 6, 'deaths': 7, 'assists': 15, 'denies': 5, 'nearby_creep_death_count': 306} \n",
      " \n",
      " \n",
      "\n",
      "{'player_slot': 2, 'hero_id': 1, 'hero_name': 'npc_dota_hero_antimage', 'account_id_hash': '30cd89395f105f0b646c5166303f7830', 'ability_upgrades': [{'ability': 5003, 'time': 413, 'level': 1}, {'ability': 5004, 'time': 466, 'level': 2}, {'ability': 5005, 'time': 590, 'level': 3}, {'ability': 5003, 'time': 681, 'level': 4}, {'ability': 5005, 'time': 803, 'level': 5}, {'ability': 5006, 'time': 906, 'level': 6}, {'ability': 5004, 'time': 1031, 'level': 7}, {'ability': 5004, 'time': 1159, 'level': 8}, {'ability': 5004, 'time': 1283, 'level': 9}, {'ability': 5906, 'time': 1389, 'level': 10}, {'ability': 5003, 'time': 1394, 'level': 11}, {'ability': 5006, 'time': 1500, 'level': 12}, {'ability': 5003, 'time': 1614, 'level': 13}, {'ability': 5005, 'time': 1614, 'level': 14}, {'ability': 5929, 'time': 1718, 'level': 15}, {'ability': 5005, 'time': 1789, 'level': 16}, {'ability': 5006, 'time': 1965, 'level': 17}], 'obs_placed': 0, 'sen_placed': 0, 'creeps_stacked': 3, 'camps_stacked': 1, 'rune_pickups': 4, 'firstblood_claimed': 1, 'teamfight_participation': 0.647, 'towers_killed': 4, 'roshans_killed': 1, 'observers_placed': 0, 'stuns': 3.478, 'max_hero_hit': {'type': 'max_hero_hit', 'time': 1976.732, 'max': True, 'inflictor': 'antimage_mana_void', 'unit': 'npc_dota_hero_antimage', 'key': 'npc_dota_hero_leshrac', 'value': 1059, 'slot': 2, 'player_slot': 2}, 'times': [0, 60, 120, 180, 240, 300, 360, 420, 480, 540, 600, 660, 720, 780, 840, 900, 960, 1020, 1080, 1140, 1200, 1260, 1320, 1380, 1440, 1500, 1560, 1620, 1680, 1740, 1800, 1860, 1920, 1980, 2040], 'gold_t': [1, 501, 830, 1055, 1455, 1586, 2083, 2434, 2689, 3073, 3446, 3985, 4395, 4730, 5189, 5662, 6066, 6965, 7699, 7934, 8444, 10065, 10962, 11447, 12594, 13552, 14528, 15647, 16614, 18489, 19036, 19887, 21714, 22739, 23905], 'lh_t': [0, 1, 7, 9, 16, 17, 26, 32, 35, 37, 41, 47, 54, 55, 63, 71, 79, 86, 98, 101, 112, 122, 135, 150, 167, 183, 201, 220, 237, 249, 250, 265, 273, 278, 283], 'dn_t': [0, 1, 2, 3, 3, 3, 4, 6, 6, 6, 6, 9, 9, 9, 10, 10, 10, 10, 10, 10, 10, 10, 10, 10, 10, 10, 10, 10, 10, 10, 10, 10, 10, 10, 10], 'xp_t': [0, 52, 277, 497, 722, 928, 1413, 1592, 2004, 2300, 2664, 2935, 3182, 3434, 3771, 4230, 4708, 6200, 6708, 6884, 7378, 9481, 9937, 10326, 12201, 12822, 13611, 14796, 15836, 17994, 18797, 19330, 20808, 24119, 26064], 'obs_log': [], 'sen_log': [], 'obs_left_log': [], 'sen_left_log': [], 'purchase_log': [{'time': -89.945, 'key': 'tango'}, {'time': -89.945, 'key': 'flask'}, {'time': -89.945, 'key': 'stout_shield'}, {'time': -89.945, 'key': 'tpscroll'}, {'time': 87.545, 'key': 'boots'}, {'time': 88.578, 'key': 'quelling_blade'}, {'time': 139.633, 'key': 'magic_stick'}, {'time': 280.698, 'key': 'ring_of_health'}, {'time': 480.616, 'key': 'gloves'}, {'time': 480.916, 'key': 'belt_of_strength'}, {'time': 498.345, 'key': 'power_treads'}, {'time': 499.211, 'key': 'tpscroll'}, {'time': 502.077, 'key': 'branches'}, {'time': 502.077, 'key': 'branches'}, {'time': 502.111, 'key': 'magic_wand'}, {'time': 502.111, 'key': 'enchanted_mango'}, {'time': 615.95, 'key': 'pers'}, {'time': 615.95, 'key': 'void_stone'}, {'time': 750.217, 'key': 'tpscroll'}, {'time': 955.2, 'key': 'bfury'}, {'time': 955.2, 'key': 'demon_edge'}, {'time': 962.198, 'key': 'tpscroll'}, {'time': 1081.603, 'key': 'boots_of_elves'}, {'time': 1082.536, 'key': 'tpscroll'}, {'time': 1084.835, 'key': 'boots_of_elves'}, {'time': 1151.785, 'key': 'blade_of_alacrity'}, {'time': 1174.647, 'key': 'tpscroll'}, {'time': 1180.612, 'key': 'yasha'}, {'time': 1303.615, 'key': 'ultimate_orb'}, {'time': 1379.43, 'key': 'manta'}, {'time': 1469.908, 'key': 'point_booster'}, {'time': 1605.741, 'key': 'tpscroll'}, {'time': 1617.105, 'key': 'staff_of_wizardry'}, {'time': 1617.305, 'key': 'ogre_axe'}, {'time': 1617.438, 'key': 'blade_of_alacrity'}, {'time': 1654.029, 'key': 'ultimate_scepter'}, {'time': 1783.675, 'key': 'belt_of_strength'}, {'time': 1783.842, 'key': 'javelin'}, {'time': 1784.009, 'key': 'basher'}, {'time': 1960.41, 'key': 'ring_of_health'}, {'time': 2006.366, 'key': 'vitality_booster'}, {'time': 2010.079, 'key': 'vanguard'}, {'time': 2010.079, 'key': 'abyssal_blade'}], 'kills_log': [{'time': 53.154, 'key': 'npc_dota_hero_dragon_knight'}, {'time': 482.482, 'key': 'npc_dota_hero_leshrac'}, {'time': 770.145, 'key': 'npc_dota_hero_dragon_knight'}, {'time': 1019.018, 'key': 'npc_dota_hero_storm_spirit'}, {'time': 1244.729, 'key': 'npc_dota_hero_leshrac'}, {'time': 1244.729, 'key': 'npc_dota_hero_storm_spirit'}, {'time': 1244.729, 'key': 'npc_dota_hero_faceless_void'}, {'time': 1418.854, 'key': 'npc_dota_hero_leshrac'}, {'time': 1686.778, 'key': 'npc_dota_hero_storm_spirit'}, {'time': 1689.32, 'key': 'npc_dota_hero_dragon_knight'}, {'time': 1695.474, 'key': 'npc_dota_hero_faceless_void'}, {'time': 1873.815, 'key': 'npc_dota_hero_leshrac'}, {'time': 1926.729, 'key': 'npc_dota_hero_treant'}, {'time': 1976.732, 'key': 'npc_dota_hero_leshrac'}, {'time': 2028.475, 'key': 'npc_dota_hero_storm_spirit'}], 'buyback_log': [], 'runes_log': [{'time': 0.233, 'key': 5}, {'time': 960.399, 'key': 5}, {'time': 1470.941, 'key': 5}, {'time': 1652.963, 'key': 5}], 'obs': {}, 'sen': {}, 'actions': {'1': 3129, '2': 3, '3': 47, '4': 1144, '5': 86, '6': 15, '7': 8, '8': 120, '10': 267, '11': 15, '14': 1, '15': 4, '16': 36, '17': 1, '19': 17, '27': 8, '31': 1, '33': 267}, 'pings': {'0': 17}, 'purchase': {'tango': 1, 'flask': 1, 'stout_shield': 1, 'tpscroll': 7, 'boots': 1, 'quelling_blade': 1, 'magic_stick': 1, 'ring_of_health': 2, 'gloves': 1, 'belt_of_strength': 2, 'power_treads': 1, 'branches': 2, 'magic_wand': 1, 'enchanted_mango': 1, 'pers': 1, 'void_stone': 1, 'bfury': 1, 'demon_edge': 1, 'boots_of_elves': 2, 'blade_of_alacrity': 2, 'recipe_yasha': 1, 'yasha': 1, 'ultimate_orb': 1, 'recipe_manta': 1, 'manta': 1, 'point_booster': 1, 'staff_of_wizardry': 1, 'ogre_axe': 1, 'ultimate_scepter': 1, 'javelin': 1, 'basher': 1, 'recipe_basher': 1, 'recipe_abyssal_blade': 1, 'vitality_booster': 1, 'vanguard': 1, 'abyssal_blade': 1}, 'gold_reasons': {'0': 1132, '1': -169, '6': 450, '11': 2604, '12': 5063, '13': 12294, '14': 456, '15': 175}, 'xp_reasons': {'0': 89, '1': 12154, '2': 13491, '3': 704}, 'killed': {'npc_dota_creep_goodguys_ranged': 103, 'npc_dota_creep_badguys_melee': 21730, 'npc_dota_hero_dragon_knight': 373, 'npc_dota_creep_goodguys_melee': 445, 'npc_dota_creep_badguys_ranged': 7906, 'npc_dota_hero_leshrac': 2520, 'npc_dota_neutral_mud_golem': 1072, 'npc_dota_neutral_mud_golem_split': 1949, 'npc_dota_neutral_polar_furbolg_ursa_warrior': 409, 'npc_dota_neutral_polar_furbolg_champion': 401, 'npc_dota_neutral_satyr_trickster': 514, 'npc_dota_neutral_satyr_soulstealer': 903, 'npc_dota_hero_storm_spirit': 1779, 'npc_dota_neutral_satyr_hellcaller': 207, 'npc_dota_neutral_prowler_acolyte': 340, 'npc_dota_neutral_prowler_shaman': 274, 'npc_dota_neutral_wildkin': 1038, 'npc_dota_neutral_enraged_wildkin': 1073, 'npc_dota_hero_faceless_void': 936, 'npc_dota_badguys_tower2_mid': 33, 'npc_dota_neutral_giant_wolf': 763, 'npc_dota_neutral_alpha_wolf': 312, 'npc_dota_neutral_gnoll_assassin': 660, 'npc_dota_neutral_ogre_mauler': 1417, 'npc_dota_neutral_big_thunder_lizard': 227, 'npc_dota_neutral_small_thunder_lizard': 484, 'npc_dota_neutral_black_drake': 848, 'npc_dota_neutral_black_dragon': 716, 'npc_dota_neutral_rock_golem': 562, 'npc_dota_neutral_granite_golem': 411, 'npc_dota_neutral_ghost': 287, 'npc_dota_neutral_fel_beast': 506, 'npc_dota_neutral_centaur_outrunner': 106, 'npc_dota_neutral_centaur_khan': 221, 'npc_dota_badguys_siege': 712, 'npc_dota_neutral_ogre_magi': 645, 'npc_dota_badguys_tower2_top': 47, 'npc_dota_roshan': 123, 'npc_dota_badguys_tower2_bot': 41, 'npc_dota_badguys_range_rax_bot': 50, 'npc_dota_hero_treant': 294, 'npc_dota_badguys_tower3_mid': 5}, 'item_uses': {'tango': 3, 'flask': 1, 'magic_stick': 3, 'quelling_blade': 2, 'tpscroll': 6, 'power_treads': 80, 'magic_wand': 3, 'manta': 9, 'bfury': 1, 'abyssal_blade': 1}, 'ability_uses': {'antimage_blink': 75, 'antimage_mana_void': 8}, 'hero_hits': {'null': 117, 'antimage_mana_void': 13, 'bfury': 1, 'leshrac_lightning_storm': 4}, 'damage': {'npc_dota_creep_goodguys_ranged': 264, 'npc_dota_creep_badguys_melee': 63843, 'npc_dota_hero_dragon_knight': 3881, 'npc_dota_creep_goodguys_melee': 1286, 'npc_dota_hero_leshrac': 3650, 'npc_dota_creep_badguys_ranged': 16514, 'npc_dota_badguys_siege': 4224, 'npc_dota_hero_faceless_void': 2638, 'npc_dota_neutral_mud_golem': 4516, 'npc_dota_neutral_mud_golem_split': 3579, 'npc_dota_neutral_polar_furbolg_champion': 2230, 'npc_dota_neutral_polar_furbolg_ursa_warrior': 1917, 'npc_dota_neutral_satyr_trickster': 1827, 'npc_dota_neutral_satyr_soulstealer': 3400, 'npc_dota_hero_storm_spirit': 4854, 'npc_dota_neutral_satyr_hellcaller': 1206, 'npc_dota_badguys_tower1_top': 746, 'npc_dota_badguys_tower1_bot': 1095, 'npc_dota_neutral_prowler_acolyte': 3057, 'npc_dota_neutral_prowler_shaman': 2749, 'npc_dota_neutral_wildkin': 4081, 'npc_dota_neutral_enraged_wildkin': 5289, 'npc_dota_badguys_tower2_mid': 657, 'npc_dota_neutral_giant_wolf': 2397, 'npc_dota_neutral_alpha_wolf': 1293, 'npc_dota_neutral_gnoll_assassin': 1340, 'npc_dota_neutral_ogre_mauler': 4946, 'npc_dota_neutral_ogre_magi': 1795, 'npc_dota_neutral_small_thunder_lizard': 1694, 'npc_dota_neutral_big_thunder_lizard': 1430, 'npc_dota_neutral_black_drake': 5454, 'npc_dota_neutral_black_dragon': 6402, 'npc_dota_neutral_rock_golem': 3984, 'npc_dota_neutral_granite_golem': 4097, 'npc_dota_hero_treant': 1475, 'npc_dota_badguys_tower3_mid': 1238, 'npc_dota_neutral_fel_beast': 1045, 'npc_dota_neutral_ghost': 574, 'npc_dota_neutral_centaur_outrunner': 429, 'npc_dota_neutral_centaur_khan': 1198, 'npc_dota_badguys_tower2_top': 1262, 'npc_dota_roshan': 9782, 'npc_dota_badguys_tower2_bot': 867, 'npc_dota_badguys_tower3_bot': 791, 'npc_dota_badguys_melee_rax_bot': 1007, 'npc_dota_badguys_range_rax_bot': 247, 'npc_dota_badguys_fillers': 65, 'npc_dota_badguys_melee_rax_mid': 57, 'npc_dota_badguys_healers': 755}, 'damage_taken': {'npc_dota_hero_leshrac': 3765, 'npc_dota_creep_badguys_melee': 1530, 'npc_dota_creep_badguys_ranged': 673, 'npc_dota_hero_dragon_knight': 3929, 'npc_dota_hero_treant': 545, 'npc_dota_badguys_siege': 32, 'npc_dota_hero_faceless_void': 1101, 'npc_dota_neutral_mud_golem': 155, 'npc_dota_neutral_mud_golem_split': 53, 'npc_dota_neutral_polar_furbolg_champion': 177, 'npc_dota_neutral_polar_furbolg_ursa_warrior': 146, 'npc_dota_neutral_satyr_trickster': 8, 'npc_dota_neutral_satyr_soulstealer': 72, 'npc_dota_neutral_satyr_hellcaller': 51, 'npc_dota_badguys_tower1_top': 148, 'npc_dota_neutral_prowler_shaman': 725, 'npc_dota_neutral_prowler_acolyte': 212, 'npc_dota_neutral_enraged_wildkin': 195, 'npc_dota_neutral_wildkin': 51, 'npc_dota_hero_storm_spirit': 1549, 'npc_dota_badguys_tower2_mid': 364, 'npc_dota_neutral_alpha_wolf': 90, 'npc_dota_neutral_giant_wolf': 37, 'npc_dota_neutral_gnoll_assassin': 25, 'npc_dota_neutral_ogre_magi': 29, 'npc_dota_neutral_ogre_mauler': 61, 'npc_dota_neutral_big_thunder_lizard': 63, 'npc_dota_neutral_small_thunder_lizard': 69, 'npc_dota_neutral_black_dragon': 179, 'npc_dota_neutral_black_drake': 81, 'npc_dota_neutral_rock_golem': 86, 'npc_dota_neutral_granite_golem': 233, 'npc_dota_badguys_tower3_mid': 1099, 'npc_dota_neutral_ghost': 11, 'npc_dota_neutral_fel_beast': 10, 'npc_dota_neutral_centaur_khan': 54, 'npc_dota_neutral_centaur_outrunner': 7, 'npc_dota_badguys_tower2_top': 222, 'npc_dota_roshan': 1840, 'npc_dota_badguys_tower3_bot': 46}, 'damage_inflictor': {'null': 7909, 'antimage_mana_void': 7953, 'bfury': 75, 'leshrac_lightning_storm': 561}, 'runes': {'5': 4}, 'killed_by': {'npc_dota_hero_dragon_knight': 1, 'npc_dota_hero_leshrac': 1}, 'kill_streaks': {'3': 1, '4': 1, '5': 1, '6': 1, '7': 1, '8': 1, '9': 1, '10': 1, '11': 1, '12': 1, '13': 1}, 'multi_kills': {'2': 2, '3': 2}, 'life_state': {'0': 4032, '1': 11, '2': 55}, 'healing': {'npc_dota_hero_antimage': 1285}, 'damage_inflictor_received': {'null': 2813, 'leshrac_lightning_storm': 1708, 'dragon_knight_breathe_fire': 2018, 'dragon_knight_dragon_tail': 249, 'leshrac_split_earth': 429, 'treant_leech_seed': 297, 'dragon_knight_elder_dragon_form': 380, 'leshrac_diabolic_edict': 338, 'leshrac_pulse_nova': 436, 'bfury': 942, 'storm_spirit_ball_lightning': 786, 'storm_spirit_static_remnant': 298, 'storm_spirit_overload': 176, 'cyclone': 19}, 'randomed': False, 'pred_vict': False, 'gold': 24228, 'lh': 289, 'xp': 26429, 'x': 120, 'y': 100, 'hero_inventory': [{'id': 'item_power_treads', 'cooldown': 0, 'stat': 2}, {'id': 'item_manta', 'cooldown': 3.5}, {'id': 'item_abyssal_blade', 'cooldown': 11.4}, {'id': 'item_tpscroll', 'num_charges': 1, 'cooldown': 0}, {'id': 'item_bfury', 'cooldown': 0}, {'id': 'item_ultimate_scepter', 'cooldown': 0}], 'hero_stash': [], 'health': 1027, 'max_health': 2245, 'max_mana': 1125.939, 'level': 24, 'kills': 15, 'deaths': 1, 'assists': 7, 'denies': 10, 'nearby_creep_death_count': 421} \n",
      " \n",
      " \n",
      "\n"
     ]
    }
   ],
   "source": [
    "for player in  match[\"players\"][:3]: \n",
    "    print (player, '\\n', '\\n', '\\n')"
   ]
  },
  {
   "cell_type": "markdown",
   "metadata": {
    "papermill": {
     "duration": 0.047795,
     "end_time": "2022-02-13T23:29:33.888962",
     "exception": false,
     "start_time": "2022-02-13T23:29:33.841167",
     "status": "completed"
    },
    "tags": []
   },
   "source": [
    "KDA - может быть неплохим признаком, этот показатель считается как:\n",
    "    \n",
    "<center>$KDA = \\frac{K + A}{D}$"
   ]
  },
  {
   "cell_type": "markdown",
   "metadata": {
    "papermill": {
     "duration": 0.047726,
     "end_time": "2022-02-13T23:29:33.984909",
     "exception": false,
     "start_time": "2022-02-13T23:29:33.937183",
     "status": "completed"
    },
    "tags": []
   },
   "source": [
    "Информация о количестве использованных способностей:"
   ]
  },
  {
   "cell_type": "code",
   "execution_count": 21,
   "metadata": {
    "execution": {
     "iopub.execute_input": "2022-02-13T23:29:34.088460Z",
     "iopub.status.busy": "2022-02-13T23:29:34.087529Z",
     "iopub.status.idle": "2022-02-13T23:29:34.091718Z",
     "shell.execute_reply": "2022-02-13T23:29:34.091168Z",
     "shell.execute_reply.started": "2022-02-13T22:57:47.094707Z"
    },
    "papermill": {
     "duration": 0.058567,
     "end_time": "2022-02-13T23:29:34.091868",
     "exception": false,
     "start_time": "2022-02-13T23:29:34.033301",
     "status": "completed"
    },
    "tags": []
   },
   "outputs": [
    {
     "data": {
      "text/plain": [
       "{'treant_living_armor': 52, 'treant_leech_seed': 5, 'treant_overgrowth': 5}"
      ]
     },
     "execution_count": 21,
     "metadata": {},
     "output_type": "execute_result"
    }
   ],
   "source": [
    "player[\"ability_uses\"]"
   ]
  },
  {
   "cell_type": "code",
   "execution_count": 29,
   "metadata": {
    "execution": {
     "iopub.execute_input": "2022-02-13T23:29:34.201476Z",
     "iopub.status.busy": "2022-02-13T23:29:34.200495Z",
     "iopub.status.idle": "2022-02-13T23:29:34.636952Z",
     "shell.execute_reply": "2022-02-13T23:29:34.637463Z",
     "shell.execute_reply.started": "2022-02-13T22:57:52.249048Z"
    },
    "papermill": {
     "duration": 0.497079,
     "end_time": "2022-02-13T23:29:34.637657",
     "exception": false,
     "start_time": "2022-02-13T23:29:34.140578",
     "status": "completed"
    },
    "tags": []
   },
   "outputs": [
    {
     "data": {
      "image/png": "[encoded data removed]",
      "text/plain": [
       "<Figure size 864x576 with 1 Axes>"
      ]
     },
     "metadata": {},
     "output_type": "display_data"
    }
   ],
   "source": [
    "for i, player in enumerate(match[\"players\"]):\n",
    "    plt.plot(player[\"times\"], player[\"xp_t\"], label=str(i+1))\n",
    "\n",
    "plt.legend()\n",
    "plt.xlabel(\"Time, s\")\n",
    "plt.ylabel(\"XP\")\n",
    "plt.title(\"XP change for all players\");"
   ]
  },
  {
   "cell_type": "markdown",
   "metadata": {
    "papermill": {
     "duration": 0.052753,
     "end_time": "2022-02-13T23:29:34.742623",
     "exception": false,
     "start_time": "2022-02-13T23:29:34.689870",
     "status": "completed"
    },
    "tags": []
   },
   "source": [
    "#### Сделаем чтение файла с сырыми данными и добавление новых признаков удобным"
   ]
  },
  {
   "cell_type": "markdown",
   "metadata": {
    "papermill": {
     "duration": 0.051195,
     "end_time": "2022-02-13T23:29:34.845611",
     "exception": false,
     "start_time": "2022-02-13T23:29:34.794416",
     "status": "completed"
    },
    "tags": []
   },
   "source": [
    "В этот раз для чтение `json` файлов лучше использовать библиотеку `ujson`, иначе все будет слишком долго :("
   ]
  },
  {
   "cell_type": "code",
   "execution_count": 31,
   "metadata": {
    "execution": {
     "iopub.execute_input": "2022-02-13T23:29:34.952234Z",
     "iopub.status.busy": "2022-02-13T23:29:34.951534Z",
     "iopub.status.idle": "2022-02-13T23:29:34.966771Z",
     "shell.execute_reply": "2022-02-13T23:29:34.966081Z",
     "shell.execute_reply.started": "2022-02-13T22:57:54.823795Z"
    },
    "papermill": {
     "duration": 0.069503,
     "end_time": "2022-02-13T23:29:34.966941",
     "exception": false,
     "start_time": "2022-02-13T23:29:34.897438",
     "status": "completed"
    },
    "tags": []
   },
   "outputs": [],
   "source": [
    "try:\n",
    "    import ujson as json\n",
    "except ModuleNotFoundError:\n",
    "    import json\n",
    "    print (\"Подумайте об установке ujson, чтобы работать с JSON объектами быстрее\")\n",
    "    \n",
    "try:\n",
    "    from tqdm.notebook import tqdm\n",
    "except ModuleNotFoundError:\n",
    "    tqdm_notebook = lambda x: x\n",
    "    print (\"Подумайте об установке tqdm, чтобы следить за прогрессом\")\n",
    "\n",
    "    \n",
    "def read_matches(matches_file, total_matches=31698, n_matches_to_read=None):\n",
    "    \"\"\"\n",
    "    Аргуент\n",
    "    -------\n",
    "    matches_file: JSON файл с сырыми данными\n",
    "    \n",
    "    Результат\n",
    "    ---------\n",
    "    Возвращает записи о каждом матче\n",
    "    \"\"\"\n",
    "    \n",
    "    if n_matches_to_read is None:\n",
    "        n_matches_to_read = total_matches\n",
    "        \n",
    "    c = 0\n",
    "    with open(matches_file) as fin:\n",
    "        for line in tqdm(fin, total=total_matches):\n",
    "            if c >= n_matches_to_read:\n",
    "                break\n",
    "            else:\n",
    "                c += 1\n",
    "                yield json.loads(line)"
   ]
  },
  {
   "cell_type": "markdown",
   "metadata": {
    "papermill": {
     "duration": 0.052275,
     "end_time": "2022-02-13T23:29:35.070860",
     "exception": false,
     "start_time": "2022-02-13T23:29:35.018585",
     "status": "completed"
    },
    "tags": []
   },
   "source": [
    "#### Чтение данных в цикле\n",
    "\n",
    "Чтение всех данных занимает 1-2 минуты, поэтому для начала можно попробовать следующее:\n",
    "\n",
    "1. Читать 10-50 игр\n",
    "2. Написать код для работы с этими JSON объектами\n",
    "3. Убедиться, что все работает\n",
    "4. Запустить код на всем датасете\n",
    "5. Сохранить результат в `pickle` файл, чтобы в следующий раз не переделывать все заново"
   ]
  },
  {
   "cell_type": "markdown",
   "metadata": {
    "papermill": {
     "duration": 0.051565,
     "end_time": "2022-02-13T23:29:35.175139",
     "exception": false,
     "start_time": "2022-02-13T23:29:35.123574",
     "status": "completed"
    },
    "tags": []
   },
   "source": [
    "## <left>Feature engineering"
   ]
  },
  {
   "cell_type": "markdown",
   "metadata": {
    "papermill": {
     "duration": 0.051315,
     "end_time": "2022-02-13T23:29:35.278664",
     "exception": false,
     "start_time": "2022-02-13T23:29:35.227349",
     "status": "completed"
    },
    "tags": []
   },
   "source": [
    "Напишем функцию, которая поможет нам легче добавлять новые признаки."
   ]
  },
  {
   "cell_type": "code",
   "execution_count": 32,
   "metadata": {
    "execution": {
     "iopub.execute_input": "2022-02-13T23:29:35.392115Z",
     "iopub.status.busy": "2022-02-13T23:29:35.391360Z",
     "iopub.status.idle": "2022-02-13T23:29:35.393224Z",
     "shell.execute_reply": "2022-02-13T23:29:35.393803Z",
     "shell.execute_reply.started": "2022-02-13T22:57:58.423089Z"
    },
    "papermill": {
     "duration": 0.063047,
     "end_time": "2022-02-13T23:29:35.393977",
     "exception": false,
     "start_time": "2022-02-13T23:29:35.330930",
     "status": "completed"
    },
    "tags": []
   },
   "outputs": [],
   "source": [
    "def add_new_features(df_features, matches_file):\n",
    "    \"\"\"\n",
    "    Аргуенты\n",
    "    -------\n",
    "    df_features: таблица с данными\n",
    "    matches_file: JSON файл с сырыми данными\n",
    "    \n",
    "    Результат\n",
    "    ---------\n",
    "    Добавляет новые признаки в таблицу\n",
    "    \"\"\"\n",
    "    \n",
    "    for match in read_matches(matches_file):\n",
    "        match_id_hash = match['match_id_hash']\n",
    "\n",
    "        # Посчитаем количество разрушенных вышек обеими командами\n",
    "        radiant_tower_kills = 0\n",
    "        dire_tower_kills = 0\n",
    "        for objective in match[\"objectives\"]:\n",
    "            if objective[\"type\"] == \"CHAT_MESSAGE_TOWER_KILL\":\n",
    "                if objective[\"team\"] == 2:\n",
    "                    radiant_tower_kills += 1\n",
    "                if objective[\"team\"] == 3:\n",
    "                    dire_tower_kills += 1\n",
    "\n",
    "        df_features.loc[match_id_hash, \"radiant_tower_kills\"] = radiant_tower_kills\n",
    "        df_features.loc[match_id_hash, \"dire_tower_kills\"] = dire_tower_kills\n",
    "        df_features.loc[match_id_hash, \"diff_tower_kills\"] = radiant_tower_kills - dire_tower_kills\n",
    "\n",
    "        \n",
    "        # ... (/¯◡ ‿ ◡)/¯☆*:・ﾟ добавляем новые признаки ..."
   ]
  },
  {
   "cell_type": "code",
   "execution_count": 33,
   "metadata": {
    "execution": {
     "iopub.execute_input": "2022-02-13T23:29:35.500607Z",
     "iopub.status.busy": "2022-02-13T23:29:35.499947Z",
     "iopub.status.idle": "2022-02-13T23:31:15.695377Z",
     "shell.execute_reply": "2022-02-13T23:31:15.695887Z",
     "shell.execute_reply.started": "2022-02-13T22:58:02.081870Z"
    },
    "papermill": {
     "duration": 100.250385,
     "end_time": "2022-02-13T23:31:15.696073",
     "exception": false,
     "start_time": "2022-02-13T23:29:35.445688",
     "status": "completed"
    },
    "tags": []
   },
   "outputs": [
    {
     "data": {
      "application/vnd.jupyter.widget-view+json": {
       "model_id": "6f5acdb22b884313a0126cd28f846340",
       "version_major": 2,
       "version_minor": 0
      },
      "text/plain": [
       "HBox(children=(HTML(value=''), FloatProgress(value=0.0, max=31698.0), HTML(value='')))"
      ]
     },
     "metadata": {},
     "output_type": "display_data"
    },
    {
     "name": "stdout",
     "output_type": "stream",
     "text": [
      "\n"
     ]
    }
   ],
   "source": [
    "# Скопируем таблицу с признаками\n",
    "df_train_features_extended = df_train_features.copy()\n",
    "\n",
    "# Добавим новые\n",
    "add_new_features(df_train_features_extended, \n",
    "                 os.path.join(PATH_TO_DATA, \n",
    "                              \"train_raw_data.jsonl\"))"
   ]
  },
  {
   "cell_type": "code",
   "execution_count": 34,
   "metadata": {
    "execution": {
     "iopub.execute_input": "2022-02-13T23:31:15.806982Z",
     "iopub.status.busy": "2022-02-13T23:31:15.805915Z",
     "iopub.status.idle": "2022-02-13T23:31:15.829554Z",
     "shell.execute_reply": "2022-02-13T23:31:15.830087Z",
     "shell.execute_reply.started": "2022-02-13T23:00:24.658661Z"
    },
    "papermill": {
     "duration": 0.08167,
     "end_time": "2022-02-13T23:31:15.830290",
     "exception": false,
     "start_time": "2022-02-13T23:31:15.748620",
     "status": "completed"
    },
    "tags": []
   },
   "outputs": [
    {
     "data": {
      "text/html": [
       "<div>\n",
       "<style scoped>\n",
       "    .dataframe tbody tr th:only-of-type {\n",
       "        vertical-align: middle;\n",
       "    }\n",
       "\n",
       "    .dataframe tbody tr th {\n",
       "        vertical-align: top;\n",
       "    }\n",
       "\n",
       "    .dataframe thead th {\n",
       "        text-align: right;\n",
       "    }\n",
       "</style>\n",
       "<table border=\"1\" class=\"dataframe\">\n",
       "  <thead>\n",
       "    <tr style=\"text-align: right;\">\n",
       "      <th></th>\n",
       "      <th>game_time</th>\n",
       "      <th>game_mode</th>\n",
       "      <th>lobby_type</th>\n",
       "      <th>objectives_len</th>\n",
       "      <th>chat_len</th>\n",
       "      <th>r1_hero_id</th>\n",
       "      <th>r1_kills</th>\n",
       "      <th>r1_deaths</th>\n",
       "      <th>r1_assists</th>\n",
       "      <th>r1_denies</th>\n",
       "      <th>...</th>\n",
       "      <th>d5_rune_pickups</th>\n",
       "      <th>d5_firstblood_claimed</th>\n",
       "      <th>d5_teamfight_participation</th>\n",
       "      <th>d5_towers_killed</th>\n",
       "      <th>d5_roshans_killed</th>\n",
       "      <th>d5_obs_placed</th>\n",
       "      <th>d5_sen_placed</th>\n",
       "      <th>radiant_tower_kills</th>\n",
       "      <th>dire_tower_kills</th>\n",
       "      <th>diff_tower_kills</th>\n",
       "    </tr>\n",
       "    <tr>\n",
       "      <th>match_id_hash</th>\n",
       "      <th></th>\n",
       "      <th></th>\n",
       "      <th></th>\n",
       "      <th></th>\n",
       "      <th></th>\n",
       "      <th></th>\n",
       "      <th></th>\n",
       "      <th></th>\n",
       "      <th></th>\n",
       "      <th></th>\n",
       "      <th></th>\n",
       "      <th></th>\n",
       "      <th></th>\n",
       "      <th></th>\n",
       "      <th></th>\n",
       "      <th></th>\n",
       "      <th></th>\n",
       "      <th></th>\n",
       "      <th></th>\n",
       "      <th></th>\n",
       "      <th></th>\n",
       "    </tr>\n",
       "  </thead>\n",
       "  <tbody>\n",
       "    <tr>\n",
       "      <th>b9c57c450ce74a2af79c9ce96fac144d</th>\n",
       "      <td>658</td>\n",
       "      <td>4</td>\n",
       "      <td>0</td>\n",
       "      <td>3</td>\n",
       "      <td>10</td>\n",
       "      <td>15</td>\n",
       "      <td>7</td>\n",
       "      <td>2</td>\n",
       "      <td>0</td>\n",
       "      <td>7</td>\n",
       "      <td>...</td>\n",
       "      <td>0</td>\n",
       "      <td>0</td>\n",
       "      <td>0.00</td>\n",
       "      <td>0</td>\n",
       "      <td>0</td>\n",
       "      <td>0</td>\n",
       "      <td>0</td>\n",
       "      <td>2.0</td>\n",
       "      <td>0.0</td>\n",
       "      <td>2.0</td>\n",
       "    </tr>\n",
       "    <tr>\n",
       "      <th>6db558535151ea18ca70a6892197db41</th>\n",
       "      <td>21</td>\n",
       "      <td>23</td>\n",
       "      <td>0</td>\n",
       "      <td>0</td>\n",
       "      <td>0</td>\n",
       "      <td>101</td>\n",
       "      <td>0</td>\n",
       "      <td>0</td>\n",
       "      <td>0</td>\n",
       "      <td>0</td>\n",
       "      <td>...</td>\n",
       "      <td>0</td>\n",
       "      <td>0</td>\n",
       "      <td>0.00</td>\n",
       "      <td>0</td>\n",
       "      <td>0</td>\n",
       "      <td>0</td>\n",
       "      <td>0</td>\n",
       "      <td>0.0</td>\n",
       "      <td>0.0</td>\n",
       "      <td>0.0</td>\n",
       "    </tr>\n",
       "    <tr>\n",
       "      <th>19c39fe2af2b547e48708ca005c6ae74</th>\n",
       "      <td>160</td>\n",
       "      <td>22</td>\n",
       "      <td>7</td>\n",
       "      <td>0</td>\n",
       "      <td>0</td>\n",
       "      <td>57</td>\n",
       "      <td>0</td>\n",
       "      <td>0</td>\n",
       "      <td>0</td>\n",
       "      <td>1</td>\n",
       "      <td>...</td>\n",
       "      <td>0</td>\n",
       "      <td>0</td>\n",
       "      <td>0.00</td>\n",
       "      <td>0</td>\n",
       "      <td>0</td>\n",
       "      <td>0</td>\n",
       "      <td>0</td>\n",
       "      <td>0.0</td>\n",
       "      <td>0.0</td>\n",
       "      <td>0.0</td>\n",
       "    </tr>\n",
       "    <tr>\n",
       "      <th>c96d629dc0c39f0c616d1949938a6ba6</th>\n",
       "      <td>1016</td>\n",
       "      <td>22</td>\n",
       "      <td>0</td>\n",
       "      <td>1</td>\n",
       "      <td>0</td>\n",
       "      <td>119</td>\n",
       "      <td>0</td>\n",
       "      <td>3</td>\n",
       "      <td>3</td>\n",
       "      <td>5</td>\n",
       "      <td>...</td>\n",
       "      <td>3</td>\n",
       "      <td>0</td>\n",
       "      <td>0.25</td>\n",
       "      <td>0</td>\n",
       "      <td>0</td>\n",
       "      <td>3</td>\n",
       "      <td>0</td>\n",
       "      <td>0.0</td>\n",
       "      <td>0.0</td>\n",
       "      <td>0.0</td>\n",
       "    </tr>\n",
       "    <tr>\n",
       "      <th>156c88bff4e9c4668b0f53df3d870f1b</th>\n",
       "      <td>582</td>\n",
       "      <td>22</td>\n",
       "      <td>7</td>\n",
       "      <td>2</td>\n",
       "      <td>2</td>\n",
       "      <td>12</td>\n",
       "      <td>3</td>\n",
       "      <td>1</td>\n",
       "      <td>2</td>\n",
       "      <td>9</td>\n",
       "      <td>...</td>\n",
       "      <td>0</td>\n",
       "      <td>1</td>\n",
       "      <td>0.50</td>\n",
       "      <td>0</td>\n",
       "      <td>0</td>\n",
       "      <td>3</td>\n",
       "      <td>0</td>\n",
       "      <td>0.0</td>\n",
       "      <td>1.0</td>\n",
       "      <td>-1.0</td>\n",
       "    </tr>\n",
       "  </tbody>\n",
       "</table>\n",
       "<p>5 rows × 248 columns</p>\n",
       "</div>"
      ],
      "text/plain": [
       "                                  game_time  game_mode  lobby_type  \\\n",
       "match_id_hash                                                        \n",
       "b9c57c450ce74a2af79c9ce96fac144d        658          4           0   \n",
       "6db558535151ea18ca70a6892197db41         21         23           0   \n",
       "19c39fe2af2b547e48708ca005c6ae74        160         22           7   \n",
       "c96d629dc0c39f0c616d1949938a6ba6       1016         22           0   \n",
       "156c88bff4e9c4668b0f53df3d870f1b        582         22           7   \n",
       "\n",
       "                                  objectives_len  chat_len  r1_hero_id  \\\n",
       "match_id_hash                                                            \n",
       "b9c57c450ce74a2af79c9ce96fac144d               3        10          15   \n",
       "6db558535151ea18ca70a6892197db41               0         0         101   \n",
       "19c39fe2af2b547e48708ca005c6ae74               0         0          57   \n",
       "c96d629dc0c39f0c616d1949938a6ba6               1         0         119   \n",
       "156c88bff4e9c4668b0f53df3d870f1b               2         2          12   \n",
       "\n",
       "                                  r1_kills  r1_deaths  r1_assists  r1_denies  \\\n",
       "match_id_hash                                                                  \n",
       "b9c57c450ce74a2af79c9ce96fac144d         7          2           0          7   \n",
       "6db558535151ea18ca70a6892197db41         0          0           0          0   \n",
       "19c39fe2af2b547e48708ca005c6ae74         0          0           0          1   \n",
       "c96d629dc0c39f0c616d1949938a6ba6         0          3           3          5   \n",
       "156c88bff4e9c4668b0f53df3d870f1b         3          1           2          9   \n",
       "\n",
       "                                  ...  d5_rune_pickups  d5_firstblood_claimed  \\\n",
       "match_id_hash                     ...                                           \n",
       "b9c57c450ce74a2af79c9ce96fac144d  ...                0                      0   \n",
       "6db558535151ea18ca70a6892197db41  ...                0                      0   \n",
       "19c39fe2af2b547e48708ca005c6ae74  ...                0                      0   \n",
       "c96d629dc0c39f0c616d1949938a6ba6  ...                3                      0   \n",
       "156c88bff4e9c4668b0f53df3d870f1b  ...                0                      1   \n",
       "\n",
       "                                  d5_teamfight_participation  \\\n",
       "match_id_hash                                                  \n",
       "b9c57c450ce74a2af79c9ce96fac144d                        0.00   \n",
       "6db558535151ea18ca70a6892197db41                        0.00   \n",
       "19c39fe2af2b547e48708ca005c6ae74                        0.00   \n",
       "c96d629dc0c39f0c616d1949938a6ba6                        0.25   \n",
       "156c88bff4e9c4668b0f53df3d870f1b                        0.50   \n",
       "\n",
       "                                  d5_towers_killed  d5_roshans_killed  \\\n",
       "match_id_hash                                                           \n",
       "b9c57c450ce74a2af79c9ce96fac144d                 0                  0   \n",
       "6db558535151ea18ca70a6892197db41                 0                  0   \n",
       "19c39fe2af2b547e48708ca005c6ae74                 0                  0   \n",
       "c96d629dc0c39f0c616d1949938a6ba6                 0                  0   \n",
       "156c88bff4e9c4668b0f53df3d870f1b                 0                  0   \n",
       "\n",
       "                                  d5_obs_placed  d5_sen_placed  \\\n",
       "match_id_hash                                                    \n",
       "b9c57c450ce74a2af79c9ce96fac144d              0              0   \n",
       "6db558535151ea18ca70a6892197db41              0              0   \n",
       "19c39fe2af2b547e48708ca005c6ae74              0              0   \n",
       "c96d629dc0c39f0c616d1949938a6ba6              3              0   \n",
       "156c88bff4e9c4668b0f53df3d870f1b              3              0   \n",
       "\n",
       "                                  radiant_tower_kills  dire_tower_kills  \\\n",
       "match_id_hash                                                             \n",
       "b9c57c450ce74a2af79c9ce96fac144d                  2.0               0.0   \n",
       "6db558535151ea18ca70a6892197db41                  0.0               0.0   \n",
       "19c39fe2af2b547e48708ca005c6ae74                  0.0               0.0   \n",
       "c96d629dc0c39f0c616d1949938a6ba6                  0.0               0.0   \n",
       "156c88bff4e9c4668b0f53df3d870f1b                  0.0               1.0   \n",
       "\n",
       "                                  diff_tower_kills  \n",
       "match_id_hash                                       \n",
       "b9c57c450ce74a2af79c9ce96fac144d               2.0  \n",
       "6db558535151ea18ca70a6892197db41               0.0  \n",
       "19c39fe2af2b547e48708ca005c6ae74               0.0  \n",
       "c96d629dc0c39f0c616d1949938a6ba6               0.0  \n",
       "156c88bff4e9c4668b0f53df3d870f1b              -1.0  \n",
       "\n",
       "[5 rows x 248 columns]"
      ]
     },
     "execution_count": 34,
     "metadata": {},
     "output_type": "execute_result"
    }
   ],
   "source": [
    "df_train_features_extended.head()"
   ]
  },
  {
   "cell_type": "code",
   "execution_count": 35,
   "metadata": {
    "execution": {
     "iopub.execute_input": "2022-02-13T23:31:15.940354Z",
     "iopub.status.busy": "2022-02-13T23:31:15.939295Z",
     "iopub.status.idle": "2022-02-13T23:32:55.255752Z",
     "shell.execute_reply": "2022-02-13T23:32:55.256364Z",
     "shell.execute_reply.started": "2022-02-13T23:00:39.716567Z"
    },
    "papermill": {
     "duration": 99.37327,
     "end_time": "2022-02-13T23:32:55.256572",
     "exception": false,
     "start_time": "2022-02-13T23:31:15.883302",
     "status": "completed"
    },
    "tags": []
   },
   "outputs": [
    {
     "name": "stdout",
     "output_type": "stream",
     "text": [
      "Wall time: 2min 41s\n"
     ]
    }
   ],
   "source": [
    "%%time\n",
    "cv_scores_base = cross_val_score(rf_model, X, y, cv=cv, scoring=\"roc_auc\", n_jobs=-1)\n",
    "cv_scores_extended = cross_val_score(rf_model, df_train_features_extended.values, y, \n",
    "                                     cv=cv, scoring=\"roc_auc\", n_jobs=-1)"
   ]
  },
  {
   "cell_type": "code",
   "execution_count": 36,
   "metadata": {
    "execution": {
     "iopub.execute_input": "2022-02-13T23:32:55.369159Z",
     "iopub.status.busy": "2022-02-13T23:32:55.368145Z",
     "iopub.status.idle": "2022-02-13T23:32:55.371820Z",
     "shell.execute_reply": "2022-02-13T23:32:55.372356Z",
     "shell.execute_reply.started": "2022-02-13T23:02:14.824997Z"
    },
    "papermill": {
     "duration": 0.062721,
     "end_time": "2022-02-13T23:32:55.372536",
     "exception": false,
     "start_time": "2022-02-13T23:32:55.309815",
     "status": "completed"
    },
    "tags": []
   },
   "outputs": [
    {
     "name": "stdout",
     "output_type": "stream",
     "text": [
      "ROC-AUC на кросс-валидации для базовых признаков: 0.7875639297494219\n",
      "ROC-AUC на кросс-валидации для новых признаков: 0.7922544268237252\n"
     ]
    }
   ],
   "source": [
    "print(f\"ROC-AUC на кросс-валидации для базовых признаков: {cv_scores_base.mean()}\")\n",
    "print(f\"ROC-AUC на кросс-валидации для новых признаков: {cv_scores_extended.mean()}\")"
   ]
  },
  {
   "cell_type": "markdown",
   "metadata": {
    "papermill": {
     "duration": 0.053505,
     "end_time": "2022-02-13T23:32:55.479766",
     "exception": false,
     "start_time": "2022-02-13T23:32:55.426261",
     "status": "completed"
    },
    "tags": []
   },
   "source": [
    "Видно, что случайный лес стал работать немного лучше при добавлении новых признаков (ROC-AUC 0.7922544268237252). A еще нужно, наверное, как-то по-умному закодировать категориальные признаки."
   ]
  },
  {
   "cell_type": "markdown",
   "metadata": {
    "papermill": {
     "duration": 0.053776,
     "end_time": "2022-02-13T23:32:55.587047",
     "exception": false,
     "start_time": "2022-02-13T23:32:55.533271",
     "status": "completed"
    },
    "tags": []
   },
   "source": [
    "Дальше дело за малым. Добавляйте новые признаки, пробуйте другие методы, которые мы изучили, а также что-то интересное, что мы не прошли. Удачи!"
   ]
  },
  {
   "cell_type": "markdown",
   "metadata": {},
   "source": [
    "# Улучшения модели относительно baseline"
   ]
  },
  {
   "cell_type": "code",
   "execution_count": null,
   "metadata": {},
   "outputs": [],
   "source": [
    "\n",
    "\n",
    "log_clf = LogisticRegression(solver=\"lbfgs\", max_iter=1000, random_state=42)\n",
    "score = cross_val_score(log_clf, df_train_features_extended.values, y, cv=cv)\n",
    "print(f\"ROC-AUC на кросс-валидации для логистической регрессии: {score.mean()}\")"
   ]
  },
  {
   "cell_type": "markdown",
   "metadata": {},
   "source": [
    "Это ниже, чем для случайного леса! :( Из тех моделей, что мы знаем, можно ещё попробовать knn "
   ]
  },
  {
   "cell_type": "code",
   "execution_count": 66,
   "metadata": {},
   "outputs": [
    {
     "name": "stdout",
     "output_type": "stream",
     "text": [
      "ROC-AUC на кросс-валидации для knn: 0.7094260375452726\n"
     ]
    }
   ],
   "source": [
    "from sklearn.neighbors import KNeighborsClassifier\n",
    "\n",
    "knn_clf = KNeighborsClassifier()\n",
    "score = cross_val_score(knn_clf, df_train_features_extended.values, y, \n",
    "                                     cv=cv, scoring=\"roc_auc\", n_jobs=-1)\n",
    "print(f\"ROC-AUC на кросс-валидации для knn: {score.mean()}\")"
   ]
  },
  {
   "cell_type": "markdown",
   "metadata": {},
   "source": [
    "Nope. Стало ещё хуже. "
   ]
  },
  {
   "cell_type": "markdown",
   "metadata": {},
   "source": [
    "На лекции с ансамблями мы разобирали, что комбинация нескольких методов работает лучше, чем один метод. Можно попробовать взять несколько известных методов и их скомбинировать! "
   ]
  },
  {
   "cell_type": "code",
   "execution_count": 52,
   "metadata": {},
   "outputs": [],
   "source": [
    "from sklearn.ensemble import RandomForestClassifier\n",
    "from sklearn.ensemble import VotingClassifier\n",
    "from sklearn.linear_model import LogisticRegression\n",
    "from sklearn.neighbors import KNeighborsClassifier\n",
    "\n",
    "log_clf = LogisticRegression(solver=\"lbfgs\", random_state=42)\n",
    "rnd_clf = RandomForestClassifier(n_estimators=1000, random_state=42)\n",
    "knn_clf = KNeighborsClassifier()\n",
    "\n",
    "\n",
    "voting_clf = VotingClassifier(\n",
    "    estimators=[('lr', log_clf), ('rf', rnd_clf), ('knn', knn_clf)],\n",
    "    voting='hard')\n",
    "\n",
    "cv_scores_extended_voting = cross_val_score(voting_clf, df_train_features_extended.values, y, \n",
    "                                     cv=cv, scoring=\"roc_auc\", n_jobs=-1)"
   ]
  },
  {
   "cell_type": "code",
   "execution_count": 51,
   "metadata": {},
   "outputs": [
    {
     "name": "stdout",
     "output_type": "stream",
     "text": [
      "ROC-AUC на кросс-валидации для класиификатора-голосовалки: 0.7965299041577569\n"
     ]
    }
   ],
   "source": [
    "print(f\"ROC-AUC на кросс-валидации для класиификатора-голосовалки: {cv_scores_extended_voting.mean()}\")"
   ]
  },
  {
   "cell_type": "code",
   "execution_count": 44,
   "metadata": {},
   "outputs": [],
   "source": [
    "voting_clf = VotingClassifier(\n",
    "    estimators=[('lr', log_clf), ('rf', rnd_clf), ('knn', knn_clf)],\n",
    "    voting='soft')\n",
    "\n",
    "cv_scores_extended_voting_soft = cross_val_score(voting_clf, df_train_features_extended.values, y, \n",
    "                                     cv=cv, scoring=\"roc_auc\", n_jobs=-1)\n"
   ]
  },
  {
   "cell_type": "code",
   "execution_count": 47,
   "metadata": {},
   "outputs": [
    {
     "name": "stdout",
     "output_type": "stream",
     "text": [
      "ROC-AUC на кросс-валидации для класиификатора-голосовалки при voting='soft': 0.7965299041577569\n"
     ]
    }
   ],
   "source": [
    "print(f\"ROC-AUC на кросс-валидации для класиификатора-голосовалки при voting='soft': {cv_scores_extended_voting_soft.mean()}\")"
   ]
  },
  {
   "cell_type": "markdown",
   "metadata": {},
   "source": [
    "Стало немного лучше - 0.7965 вместо 0.7922!\n",
    "Пока что голосовалка из трёх предикторов работает лучше всего (хотя по отдельности два из этих предикторов работают довольно плохо)"
   ]
  },
  {
   "cell_type": "code",
   "execution_count": null,
   "metadata": {},
   "outputs": [],
   "source": [
    "Попробуем бустинг:"
   ]
  },
  {
   "cell_type": "code",
   "execution_count": 53,
   "metadata": {},
   "outputs": [
    {
     "ename": "NotFittedError",
     "evalue": "This RandomForestClassifier instance is not fitted yet. Call 'fit' with appropriate arguments before using this estimator.",
     "output_type": "error",
     "traceback": [
      "\u001b[1;31m---------------------------------------------------------------------------\u001b[0m",
      "\u001b[1;31mNotFittedError\u001b[0m                            Traceback (most recent call last)",
      "\u001b[1;32m<ipython-input-53-f2ead8ff4bda>\u001b[0m in \u001b[0;36m<module>\u001b[1;34m\u001b[0m\n\u001b[0;32m      7\u001b[0m \u001b[0mada_clf\u001b[0m\u001b[1;33m.\u001b[0m\u001b[0mfit\u001b[0m\u001b[1;33m(\u001b[0m\u001b[0mdf_train_features_extended\u001b[0m\u001b[1;33m.\u001b[0m\u001b[0mvalues\u001b[0m\u001b[1;33m,\u001b[0m \u001b[0my\u001b[0m\u001b[1;33m)\u001b[0m\u001b[1;33m\u001b[0m\u001b[1;33m\u001b[0m\u001b[0m\n\u001b[0;32m      8\u001b[0m \u001b[1;33m\u001b[0m\u001b[0m\n\u001b[1;32m----> 9\u001b[1;33m \u001b[0my_pred\u001b[0m \u001b[1;33m=\u001b[0m \u001b[0mrf_model\u001b[0m\u001b[1;33m.\u001b[0m\u001b[0mpredict_proba\u001b[0m\u001b[1;33m(\u001b[0m\u001b[0mX_valid\u001b[0m\u001b[1;33m)\u001b[0m\u001b[1;33m[\u001b[0m\u001b[1;33m:\u001b[0m\u001b[1;33m,\u001b[0m \u001b[1;36m1\u001b[0m\u001b[1;33m]\u001b[0m\u001b[1;33m\u001b[0m\u001b[1;33m\u001b[0m\u001b[0m\n\u001b[0m\u001b[0;32m     10\u001b[0m \u001b[0mvalid_score\u001b[0m \u001b[1;33m=\u001b[0m \u001b[0mroc_auc_score\u001b[0m\u001b[1;33m(\u001b[0m\u001b[0my_valid\u001b[0m\u001b[1;33m,\u001b[0m \u001b[0my_pred\u001b[0m\u001b[1;33m)\u001b[0m\u001b[1;33m\u001b[0m\u001b[1;33m\u001b[0m\u001b[0m\n\u001b[0;32m     11\u001b[0m \u001b[0mprint\u001b[0m\u001b[1;33m(\u001b[0m\u001b[1;34m\"ROC-AUC score на отложенной части:\"\u001b[0m\u001b[1;33m,\u001b[0m \u001b[0mvalid_score\u001b[0m\u001b[1;33m)\u001b[0m\u001b[1;33m\u001b[0m\u001b[1;33m\u001b[0m\u001b[0m\n",
      "\u001b[1;32m~\\anaconda3\\lib\\site-packages\\sklearn\\ensemble\\_forest.py\u001b[0m in \u001b[0;36mpredict_proba\u001b[1;34m(self, X)\u001b[0m\n\u001b[0;32m    846\u001b[0m             \u001b[0mclasses\u001b[0m \u001b[0mcorresponds\u001b[0m \u001b[0mto\u001b[0m \u001b[0mthat\u001b[0m \u001b[1;32min\u001b[0m \u001b[0mthe\u001b[0m \u001b[0mattribute\u001b[0m \u001b[1;33m:\u001b[0m\u001b[0mterm\u001b[0m\u001b[1;33m:\u001b[0m\u001b[0;31m`\u001b[0m\u001b[0mclasses_\u001b[0m\u001b[0;31m`\u001b[0m\u001b[1;33m.\u001b[0m\u001b[1;33m\u001b[0m\u001b[1;33m\u001b[0m\u001b[0m\n\u001b[0;32m    847\u001b[0m         \"\"\"\n\u001b[1;32m--> 848\u001b[1;33m         \u001b[0mcheck_is_fitted\u001b[0m\u001b[1;33m(\u001b[0m\u001b[0mself\u001b[0m\u001b[1;33m)\u001b[0m\u001b[1;33m\u001b[0m\u001b[1;33m\u001b[0m\u001b[0m\n\u001b[0m\u001b[0;32m    849\u001b[0m         \u001b[1;31m# Check data\u001b[0m\u001b[1;33m\u001b[0m\u001b[1;33m\u001b[0m\u001b[1;33m\u001b[0m\u001b[0m\n\u001b[0;32m    850\u001b[0m         \u001b[0mX\u001b[0m \u001b[1;33m=\u001b[0m \u001b[0mself\u001b[0m\u001b[1;33m.\u001b[0m\u001b[0m_validate_X_predict\u001b[0m\u001b[1;33m(\u001b[0m\u001b[0mX\u001b[0m\u001b[1;33m)\u001b[0m\u001b[1;33m\u001b[0m\u001b[1;33m\u001b[0m\u001b[0m\n",
      "\u001b[1;32m~\\anaconda3\\lib\\site-packages\\sklearn\\utils\\validation.py\u001b[0m in \u001b[0;36mcheck_is_fitted\u001b[1;34m(estimator, attributes, msg, all_or_any)\u001b[0m\n\u001b[0;32m   1220\u001b[0m \u001b[1;33m\u001b[0m\u001b[0m\n\u001b[0;32m   1221\u001b[0m     \u001b[1;32mif\u001b[0m \u001b[1;32mnot\u001b[0m \u001b[0mfitted\u001b[0m\u001b[1;33m:\u001b[0m\u001b[1;33m\u001b[0m\u001b[1;33m\u001b[0m\u001b[0m\n\u001b[1;32m-> 1222\u001b[1;33m         \u001b[1;32mraise\u001b[0m \u001b[0mNotFittedError\u001b[0m\u001b[1;33m(\u001b[0m\u001b[0mmsg\u001b[0m \u001b[1;33m%\u001b[0m \u001b[1;33m{\u001b[0m\u001b[1;34m\"name\"\u001b[0m\u001b[1;33m:\u001b[0m \u001b[0mtype\u001b[0m\u001b[1;33m(\u001b[0m\u001b[0mestimator\u001b[0m\u001b[1;33m)\u001b[0m\u001b[1;33m.\u001b[0m\u001b[0m__name__\u001b[0m\u001b[1;33m}\u001b[0m\u001b[1;33m)\u001b[0m\u001b[1;33m\u001b[0m\u001b[1;33m\u001b[0m\u001b[0m\n\u001b[0m\u001b[0;32m   1223\u001b[0m \u001b[1;33m\u001b[0m\u001b[0m\n\u001b[0;32m   1224\u001b[0m \u001b[1;33m\u001b[0m\u001b[0m\n",
      "\u001b[1;31mNotFittedError\u001b[0m: This RandomForestClassifier instance is not fitted yet. Call 'fit' with appropriate arguments before using this estimator."
     ]
    }
   ],
   "source": [
    "from sklearn.tree import DecisionTreeClassifier\n",
    "from sklearn.ensemble import AdaBoostClassifier\n",
    "\n",
    "ada_clf = AdaBoostClassifier(\n",
    "    DecisionTreeClassifier(max_depth=2), n_estimators=200,\n",
    "    algorithm=\"SAMME.R\", learning_rate=0.5, random_state=42)\n",
    "ada_clf.fit(df_train_features_extended.values, y)"
   ]
  },
  {
   "cell_type": "code",
   "execution_count": 57,
   "metadata": {},
   "outputs": [
    {
     "name": "stdout",
     "output_type": "stream",
     "text": [
      "ROC-AUC на кросс-валидации для ada boost: 0.7893944156911911\n"
     ]
    }
   ],
   "source": [
    "cv_scores_extended = cross_val_score(ada_clf, df_train_features_extended.values, y, \n",
    "                                     cv=cv, scoring=\"roc_auc\", n_jobs=-1)\n",
    "print(f\"ROC-AUC на кросс-валидации для ada boost: {cv_scores_extended.mean()}\")"
   ]
  },
  {
   "cell_type": "markdown",
   "metadata": {},
   "source": [
    "Кажется, сделать лучше не очень получилось :( "
   ]
  },
  {
   "cell_type": "code",
   "execution_count": 72,
   "metadata": {},
   "outputs": [
    {
     "name": "stdout",
     "output_type": "stream",
     "text": [
      "ROC-AUC на кросс-валидации для xgb_clas: 0.7922135268812249\n"
     ]
    }
   ],
   "source": [
    "xgb_clas = xgboost.XGBClassifier(random_state=42, n_estimators=1000)\n",
    "cv_scores_xgboost = cross_val_score(xgb_clas, df_train_features_extended.values, y, \n",
    "                                     cv=cv, scoring=\"roc_auc\", n_jobs=-1)\n",
    "print(f\"ROC-AUC на кросс-валидации для xgb_clas: {cv_scores_xgboost.mean()}\")"
   ]
  },
  {
   "cell_type": "code",
   "execution_count": 73,
   "metadata": {},
   "outputs": [
    {
     "name": "stdout",
     "output_type": "stream",
     "text": [
      "ROC-AUC на кросс-валидации для голосовалки с xgboost: 0.8060004481340677\n"
     ]
    }
   ],
   "source": [
    "voting_clf = VotingClassifier(\n",
    "    estimators=[('lr', log_clf), ('rf', rnd_clf), ('knn', knn_clf), ('xgb', xgb_clas), ('ada', ada_clf)],\n",
    "    voting='soft')\n",
    "\n",
    "cv_scores_voting = cross_val_score(voting_clf, df_train_features_extended.values, y, \n",
    "                                     cv=cv, scoring=\"roc_auc\", n_jobs=-1)\n",
    "\n",
    "print(f\"ROC-AUC на кросс-валидации для голосовалки с xgboost: {cv_scores_voting.mean()}\")"
   ]
  },
  {
   "cell_type": "markdown",
   "metadata": {},
   "source": [
    "Запишем новые признаки из baseline solution  в тестовую выборку:"
   ]
  },
  {
   "cell_type": "code",
   "execution_count": 76,
   "metadata": {},
   "outputs": [
    {
     "data": {
      "application/vnd.jupyter.widget-view+json": {
       "model_id": "1400ea4dd5f74fcfb9ead5bc5b4ea929",
       "version_major": 2,
       "version_minor": 0
      },
      "text/plain": [
       "HBox(children=(HTML(value=''), FloatProgress(value=0.0, max=31698.0), HTML(value='')))"
      ]
     },
     "metadata": {},
     "output_type": "display_data"
    },
    {
     "name": "stdout",
     "output_type": "stream",
     "text": [
      "\n"
     ]
    }
   ],
   "source": [
    "df_test_features_extended = df_test_features.copy()\n",
    "add_new_features(df_test_features_extended, 'test_raw_data.jsonl')"
   ]
  },
  {
   "cell_type": "code",
   "execution_count": 78,
   "metadata": {},
   "outputs": [
    {
     "name": "stdout",
     "output_type": "stream",
     "text": [
      "[22:31:51] WARNING: C:/Users/Administrator/workspace/xgboost-win64_release_1.5.1/src/learner.cc:1115: Starting in XGBoost 1.3.0, the default evaluation metric used with the objective 'binary:logistic' was changed from 'error' to 'logloss'. Explicitly set eval_metric if you'd like to restore the old behavior.\n"
     ]
    },
    {
     "data": {
      "text/plain": [
       "VotingClassifier(estimators=[('lr',\n",
       "                              LogisticRegression(max_iter=1000,\n",
       "                                                 random_state=42)),\n",
       "                             ('rf',\n",
       "                              RandomForestClassifier(n_estimators=1000,\n",
       "                                                     random_state=42)),\n",
       "                             ('knn', KNeighborsClassifier()),\n",
       "                             ('xgb',\n",
       "                              XGBClassifier(base_score=None, booster=None,\n",
       "                                            colsample_bylevel=None,\n",
       "                                            colsample_bynode=None,\n",
       "                                            colsample_bytree=None,\n",
       "                                            enable_categorical=False,\n",
       "                                            gamma=None, gpu_id=None,\n",
       "                                            imp...\n",
       "                                            n_estimators=500, n_jobs=None,\n",
       "                                            num_parallel_tree=None,\n",
       "                                            predictor=None, random_state=42,\n",
       "                                            reg_alpha=None, reg_lambda=None,\n",
       "                                            scale_pos_weight=None,\n",
       "                                            subsample=None, tree_method=None,\n",
       "                                            validate_parameters=None,\n",
       "                                            verbosity=None)),\n",
       "                             ('ada',\n",
       "                              AdaBoostClassifier(base_estimator=DecisionTreeClassifier(max_depth=2),\n",
       "                                                 learning_rate=0.5,\n",
       "                                                 n_estimators=200,\n",
       "                                                 random_state=42))],\n",
       "                 voting='soft')"
      ]
     },
     "execution_count": 78,
     "metadata": {},
     "output_type": "execute_result"
    }
   ],
   "source": [
    "voting_clf.fit(df_train_features_extended.values, y)"
   ]
  },
  {
   "cell_type": "code",
   "execution_count": 79,
   "metadata": {},
   "outputs": [
    {
     "name": "stdout",
     "output_type": "stream",
     "text": [
      "Файл посылки сохранен, как: submission_2022-04-03_22-41-45.csv\n"
     ]
    }
   ],
   "source": [
    "X_test = df_test_features_extended.values\n",
    "y_test_pred = voting_clf.predict_proba(X_test)[:, 1]\n",
    "\n",
    "df_submission = pd.DataFrame({\"radiant_win_prob\": y_test_pred}, \n",
    "                                 index=df_test_features.index)\n",
    "\n",
    "submission_filename = \"submission_{}.csv\".format(\n",
    "    datetime.datetime.now().strftime(\"%Y-%m-%d_%H-%M-%S\"))\n",
    "df_submission.to_csv(submission_filename)\n",
    "print(\"Файл посылки сохранен, как: {}\".format(submission_filename))"
   ]
  },
  {
   "cell_type": "markdown",
   "metadata": {},
   "source": [
    "Можно ещё отдельными колонками вставить в таблицу признаков золото на команду и KDA на каждого игрока. \n",
    "\n"
   ]
  },
  {
   "cell_type": "code",
   "execution_count": 87,
   "metadata": {},
   "outputs": [
    {
     "data": {
      "text/html": [
       "<div>\n",
       "<style scoped>\n",
       "    .dataframe tbody tr th:only-of-type {\n",
       "        vertical-align: middle;\n",
       "    }\n",
       "\n",
       "    .dataframe tbody tr th {\n",
       "        vertical-align: top;\n",
       "    }\n",
       "\n",
       "    .dataframe thead th {\n",
       "        text-align: right;\n",
       "    }\n",
       "</style>\n",
       "<table border=\"1\" class=\"dataframe\">\n",
       "  <thead>\n",
       "    <tr style=\"text-align: right;\">\n",
       "      <th></th>\n",
       "      <th>game_time</th>\n",
       "      <th>game_mode</th>\n",
       "      <th>lobby_type</th>\n",
       "      <th>objectives_len</th>\n",
       "      <th>chat_len</th>\n",
       "      <th>r1_hero_id</th>\n",
       "      <th>r1_kills</th>\n",
       "      <th>r1_deaths</th>\n",
       "      <th>r1_assists</th>\n",
       "      <th>r1_denies</th>\n",
       "      <th>...</th>\n",
       "      <th>r3_kda</th>\n",
       "      <th>r4_kda</th>\n",
       "      <th>r5_kda</th>\n",
       "      <th>d1_kda</th>\n",
       "      <th>d2_kda</th>\n",
       "      <th>d3_kda</th>\n",
       "      <th>d4_kda</th>\n",
       "      <th>d5_kda</th>\n",
       "      <th>rkda</th>\n",
       "      <th>dkda</th>\n",
       "    </tr>\n",
       "    <tr>\n",
       "      <th>match_id_hash</th>\n",
       "      <th></th>\n",
       "      <th></th>\n",
       "      <th></th>\n",
       "      <th></th>\n",
       "      <th></th>\n",
       "      <th></th>\n",
       "      <th></th>\n",
       "      <th></th>\n",
       "      <th></th>\n",
       "      <th></th>\n",
       "      <th></th>\n",
       "      <th></th>\n",
       "      <th></th>\n",
       "      <th></th>\n",
       "      <th></th>\n",
       "      <th></th>\n",
       "      <th></th>\n",
       "      <th></th>\n",
       "      <th></th>\n",
       "      <th></th>\n",
       "      <th></th>\n",
       "    </tr>\n",
       "  </thead>\n",
       "  <tbody>\n",
       "    <tr>\n",
       "      <th>b9c57c450ce74a2af79c9ce96fac144d</th>\n",
       "      <td>658</td>\n",
       "      <td>4</td>\n",
       "      <td>0</td>\n",
       "      <td>3</td>\n",
       "      <td>10</td>\n",
       "      <td>15</td>\n",
       "      <td>7</td>\n",
       "      <td>2</td>\n",
       "      <td>0</td>\n",
       "      <td>7</td>\n",
       "      <td>...</td>\n",
       "      <td>5.000999</td>\n",
       "      <td>8.000000</td>\n",
       "      <td>7.000000</td>\n",
       "      <td>1.000500</td>\n",
       "      <td>1.000167</td>\n",
       "      <td>2.000333</td>\n",
       "      <td>2.000333</td>\n",
       "      <td>0.000500</td>\n",
       "      <td>32.002498</td>\n",
       "      <td>6.001833</td>\n",
       "    </tr>\n",
       "    <tr>\n",
       "      <th>6db558535151ea18ca70a6892197db41</th>\n",
       "      <td>21</td>\n",
       "      <td>23</td>\n",
       "      <td>0</td>\n",
       "      <td>0</td>\n",
       "      <td>0</td>\n",
       "      <td>101</td>\n",
       "      <td>0</td>\n",
       "      <td>0</td>\n",
       "      <td>0</td>\n",
       "      <td>0</td>\n",
       "      <td>...</td>\n",
       "      <td>1.000000</td>\n",
       "      <td>1.000000</td>\n",
       "      <td>1.000000</td>\n",
       "      <td>1.000000</td>\n",
       "      <td>1.000000</td>\n",
       "      <td>1.000000</td>\n",
       "      <td>1.000000</td>\n",
       "      <td>1.000000</td>\n",
       "      <td>5.000000</td>\n",
       "      <td>5.000000</td>\n",
       "    </tr>\n",
       "    <tr>\n",
       "      <th>19c39fe2af2b547e48708ca005c6ae74</th>\n",
       "      <td>160</td>\n",
       "      <td>22</td>\n",
       "      <td>7</td>\n",
       "      <td>0</td>\n",
       "      <td>0</td>\n",
       "      <td>57</td>\n",
       "      <td>0</td>\n",
       "      <td>0</td>\n",
       "      <td>0</td>\n",
       "      <td>1</td>\n",
       "      <td>...</td>\n",
       "      <td>1.000000</td>\n",
       "      <td>1.000000</td>\n",
       "      <td>1.000000</td>\n",
       "      <td>1.000000</td>\n",
       "      <td>1.000000</td>\n",
       "      <td>1.000000</td>\n",
       "      <td>1.000000</td>\n",
       "      <td>1.000000</td>\n",
       "      <td>5.000000</td>\n",
       "      <td>5.000000</td>\n",
       "    </tr>\n",
       "    <tr>\n",
       "      <th>c96d629dc0c39f0c616d1949938a6ba6</th>\n",
       "      <td>1016</td>\n",
       "      <td>22</td>\n",
       "      <td>0</td>\n",
       "      <td>1</td>\n",
       "      <td>0</td>\n",
       "      <td>119</td>\n",
       "      <td>0</td>\n",
       "      <td>3</td>\n",
       "      <td>3</td>\n",
       "      <td>5</td>\n",
       "      <td>...</td>\n",
       "      <td>2.000999</td>\n",
       "      <td>4.000999</td>\n",
       "      <td>4.000500</td>\n",
       "      <td>4.000250</td>\n",
       "      <td>5.000000</td>\n",
       "      <td>7.000500</td>\n",
       "      <td>6.000333</td>\n",
       "      <td>3.000999</td>\n",
       "      <td>21.003031</td>\n",
       "      <td>25.002082</td>\n",
       "    </tr>\n",
       "    <tr>\n",
       "      <th>156c88bff4e9c4668b0f53df3d870f1b</th>\n",
       "      <td>582</td>\n",
       "      <td>22</td>\n",
       "      <td>7</td>\n",
       "      <td>2</td>\n",
       "      <td>2</td>\n",
       "      <td>12</td>\n",
       "      <td>3</td>\n",
       "      <td>1</td>\n",
       "      <td>2</td>\n",
       "      <td>9</td>\n",
       "      <td>...</td>\n",
       "      <td>4.000999</td>\n",
       "      <td>1.000999</td>\n",
       "      <td>0.000999</td>\n",
       "      <td>6.000999</td>\n",
       "      <td>2.000500</td>\n",
       "      <td>6.000000</td>\n",
       "      <td>2.000999</td>\n",
       "      <td>5.000500</td>\n",
       "      <td>13.004163</td>\n",
       "      <td>21.002998</td>\n",
       "    </tr>\n",
       "  </tbody>\n",
       "</table>\n",
       "<p>5 rows × 263 columns</p>\n",
       "</div>"
      ],
      "text/plain": [
       "                                  game_time  game_mode  lobby_type  \\\n",
       "match_id_hash                                                        \n",
       "b9c57c450ce74a2af79c9ce96fac144d        658          4           0   \n",
       "6db558535151ea18ca70a6892197db41         21         23           0   \n",
       "19c39fe2af2b547e48708ca005c6ae74        160         22           7   \n",
       "c96d629dc0c39f0c616d1949938a6ba6       1016         22           0   \n",
       "156c88bff4e9c4668b0f53df3d870f1b        582         22           7   \n",
       "\n",
       "                                  objectives_len  chat_len  r1_hero_id  \\\n",
       "match_id_hash                                                            \n",
       "b9c57c450ce74a2af79c9ce96fac144d               3        10          15   \n",
       "6db558535151ea18ca70a6892197db41               0         0         101   \n",
       "19c39fe2af2b547e48708ca005c6ae74               0         0          57   \n",
       "c96d629dc0c39f0c616d1949938a6ba6               1         0         119   \n",
       "156c88bff4e9c4668b0f53df3d870f1b               2         2          12   \n",
       "\n",
       "                                  r1_kills  r1_deaths  r1_assists  r1_denies  \\\n",
       "match_id_hash                                                                  \n",
       "b9c57c450ce74a2af79c9ce96fac144d         7          2           0          7   \n",
       "6db558535151ea18ca70a6892197db41         0          0           0          0   \n",
       "19c39fe2af2b547e48708ca005c6ae74         0          0           0          1   \n",
       "c96d629dc0c39f0c616d1949938a6ba6         0          3           3          5   \n",
       "156c88bff4e9c4668b0f53df3d870f1b         3          1           2          9   \n",
       "\n",
       "                                  ...    r3_kda    r4_kda    r5_kda    d1_kda  \\\n",
       "match_id_hash                     ...                                           \n",
       "b9c57c450ce74a2af79c9ce96fac144d  ...  5.000999  8.000000  7.000000  1.000500   \n",
       "6db558535151ea18ca70a6892197db41  ...  1.000000  1.000000  1.000000  1.000000   \n",
       "19c39fe2af2b547e48708ca005c6ae74  ...  1.000000  1.000000  1.000000  1.000000   \n",
       "c96d629dc0c39f0c616d1949938a6ba6  ...  2.000999  4.000999  4.000500  4.000250   \n",
       "156c88bff4e9c4668b0f53df3d870f1b  ...  4.000999  1.000999  0.000999  6.000999   \n",
       "\n",
       "                                    d2_kda    d3_kda    d4_kda    d5_kda  \\\n",
       "match_id_hash                                                              \n",
       "b9c57c450ce74a2af79c9ce96fac144d  1.000167  2.000333  2.000333  0.000500   \n",
       "6db558535151ea18ca70a6892197db41  1.000000  1.000000  1.000000  1.000000   \n",
       "19c39fe2af2b547e48708ca005c6ae74  1.000000  1.000000  1.000000  1.000000   \n",
       "c96d629dc0c39f0c616d1949938a6ba6  5.000000  7.000500  6.000333  3.000999   \n",
       "156c88bff4e9c4668b0f53df3d870f1b  2.000500  6.000000  2.000999  5.000500   \n",
       "\n",
       "                                       rkda       dkda  \n",
       "match_id_hash                                           \n",
       "b9c57c450ce74a2af79c9ce96fac144d  32.002498   6.001833  \n",
       "6db558535151ea18ca70a6892197db41   5.000000   5.000000  \n",
       "19c39fe2af2b547e48708ca005c6ae74   5.000000   5.000000  \n",
       "c96d629dc0c39f0c616d1949938a6ba6  21.003031  25.002082  \n",
       "156c88bff4e9c4668b0f53df3d870f1b  13.004163  21.002998  \n",
       "\n",
       "[5 rows x 263 columns]"
      ]
     },
     "execution_count": 87,
     "metadata": {},
     "output_type": "execute_result"
    }
   ],
   "source": [
    "df_train_features_extended['r_gold'] = df_train_features_extended['r1_gold'] + df_train_features_extended['r2_gold'] + \\\n",
    "     df_train_features_extended['r3_gold'] + df_train_features_extended['r4_gold'] + \\\n",
    "     df_train_features_extended['r5_gold']\n",
    "\n",
    "df_train_features_extended['d_gold'] = df_train_features_extended['d1_gold'] + df_train_features_extended['d2_gold'] + \\\n",
    "     df_train_features_extended['d3_gold'] + df_train_features_extended['d4_gold'] + \\\n",
    "     df_train_features_extended['d5_gold']\n",
    "\n",
    "for hero_index in ['r1', 'r2', 'r3', 'r4', 'r5', 'd1', 'd2', 'd3', 'd4', 'd5']: \n",
    "    df_train_features_extended[hero_index+'_kda'] = (df_train_features_extended[hero_index+'_kills']+df_train_features_extended[hero_index+'_assists'])+0.001/(df_train_features_extended[hero_index+'_deaths']+0.001)\n",
    "\n",
    "df_train_features_extended['rkda'] = df_train_features_extended['r1_kda']+df_train_features_extended['r2_kda']+df_train_features_extended['r3_kda']+df_train_features_extended['r4_kda']+df_train_features_extended['r5_kda']\n",
    "df_train_features_extended['dkda'] = df_train_features_extended['d1_kda']+df_train_features_extended['d2_kda']+df_train_features_extended['d3_kda']+df_train_features_extended['d4_kda']+df_train_features_extended['d5_kda']  \n",
    "    \n",
    "df_train_features_extended['gold_difference'] = df_train_features_extended['r_gold'] - df_train_features_extended['d_gold']\n",
    "df_train_features_extended.head()"
   ]
  },
  {
   "cell_type": "code",
   "execution_count": 88,
   "metadata": {},
   "outputs": [
    {
     "name": "stdout",
     "output_type": "stream",
     "text": [
      "ROC-AUC на кросс-валидации для голосовалки с xgboost: 0.8099870212710553\n"
     ]
    }
   ],
   "source": [
    "voting_clf = VotingClassifier(\n",
    "    estimators=[('lr', log_clf), ('rf', rnd_clf), ('knn', knn_clf), ('xgb', xgb_clas), ('ada', ada_clf)],\n",
    "    voting='soft')\n",
    "\n",
    "cv_scores_voting = cross_val_score(voting_clf, df_train_features_extended.values, y, \n",
    "                                     cv=cv, scoring=\"roc_auc\", n_jobs=-1)\n",
    "\n",
    "print(f\"ROC-AUC на кросс-валидации для голосовалки с xgboost: {cv_scores_voting.mean()}\")"
   ]
  },
  {
   "cell_type": "code",
   "execution_count": 89,
   "metadata": {},
   "outputs": [
    {
     "data": {
      "text/html": [
       "<div>\n",
       "<style scoped>\n",
       "    .dataframe tbody tr th:only-of-type {\n",
       "        vertical-align: middle;\n",
       "    }\n",
       "\n",
       "    .dataframe tbody tr th {\n",
       "        vertical-align: top;\n",
       "    }\n",
       "\n",
       "    .dataframe thead th {\n",
       "        text-align: right;\n",
       "    }\n",
       "</style>\n",
       "<table border=\"1\" class=\"dataframe\">\n",
       "  <thead>\n",
       "    <tr style=\"text-align: right;\">\n",
       "      <th></th>\n",
       "      <th>game_time</th>\n",
       "      <th>game_mode</th>\n",
       "      <th>lobby_type</th>\n",
       "      <th>objectives_len</th>\n",
       "      <th>chat_len</th>\n",
       "      <th>r1_hero_id</th>\n",
       "      <th>r1_kills</th>\n",
       "      <th>r1_deaths</th>\n",
       "      <th>r1_assists</th>\n",
       "      <th>r1_denies</th>\n",
       "      <th>...</th>\n",
       "      <th>r4_kda</th>\n",
       "      <th>r5_kda</th>\n",
       "      <th>d1_kda</th>\n",
       "      <th>d2_kda</th>\n",
       "      <th>d3_kda</th>\n",
       "      <th>d4_kda</th>\n",
       "      <th>d5_kda</th>\n",
       "      <th>rkda</th>\n",
       "      <th>dkda</th>\n",
       "      <th>gold_difference</th>\n",
       "    </tr>\n",
       "    <tr>\n",
       "      <th>match_id_hash</th>\n",
       "      <th></th>\n",
       "      <th></th>\n",
       "      <th></th>\n",
       "      <th></th>\n",
       "      <th></th>\n",
       "      <th></th>\n",
       "      <th></th>\n",
       "      <th></th>\n",
       "      <th></th>\n",
       "      <th></th>\n",
       "      <th></th>\n",
       "      <th></th>\n",
       "      <th></th>\n",
       "      <th></th>\n",
       "      <th></th>\n",
       "      <th></th>\n",
       "      <th></th>\n",
       "      <th></th>\n",
       "      <th></th>\n",
       "      <th></th>\n",
       "      <th></th>\n",
       "    </tr>\n",
       "  </thead>\n",
       "  <tbody>\n",
       "    <tr>\n",
       "      <th>a400b8f29dece5f4d266f49f1ae2e98a</th>\n",
       "      <td>155</td>\n",
       "      <td>22</td>\n",
       "      <td>7</td>\n",
       "      <td>1</td>\n",
       "      <td>11</td>\n",
       "      <td>11</td>\n",
       "      <td>0</td>\n",
       "      <td>0</td>\n",
       "      <td>0</td>\n",
       "      <td>0</td>\n",
       "      <td>...</td>\n",
       "      <td>1.000000</td>\n",
       "      <td>1.000000</td>\n",
       "      <td>2.0000</td>\n",
       "      <td>1.000000</td>\n",
       "      <td>1.000000</td>\n",
       "      <td>2.000000</td>\n",
       "      <td>1.000000</td>\n",
       "      <td>4.000999</td>\n",
       "      <td>7.000000</td>\n",
       "      <td>-1911</td>\n",
       "    </tr>\n",
       "    <tr>\n",
       "      <th>46a0ddce8f7ed2a8d9bd5edcbb925682</th>\n",
       "      <td>576</td>\n",
       "      <td>22</td>\n",
       "      <td>7</td>\n",
       "      <td>1</td>\n",
       "      <td>4</td>\n",
       "      <td>14</td>\n",
       "      <td>1</td>\n",
       "      <td>0</td>\n",
       "      <td>3</td>\n",
       "      <td>1</td>\n",
       "      <td>...</td>\n",
       "      <td>3.000999</td>\n",
       "      <td>2.000000</td>\n",
       "      <td>1.0000</td>\n",
       "      <td>1.000333</td>\n",
       "      <td>1.000999</td>\n",
       "      <td>0.000500</td>\n",
       "      <td>0.000999</td>\n",
       "      <td>17.001998</td>\n",
       "      <td>3.002831</td>\n",
       "      <td>2047</td>\n",
       "    </tr>\n",
       "    <tr>\n",
       "      <th>b1b35ff97723d9b7ade1c9c3cf48f770</th>\n",
       "      <td>453</td>\n",
       "      <td>22</td>\n",
       "      <td>7</td>\n",
       "      <td>1</td>\n",
       "      <td>3</td>\n",
       "      <td>42</td>\n",
       "      <td>0</td>\n",
       "      <td>1</td>\n",
       "      <td>1</td>\n",
       "      <td>0</td>\n",
       "      <td>...</td>\n",
       "      <td>3.000000</td>\n",
       "      <td>1.000500</td>\n",
       "      <td>2.0000</td>\n",
       "      <td>2.000000</td>\n",
       "      <td>2.000000</td>\n",
       "      <td>2.000999</td>\n",
       "      <td>1.000999</td>\n",
       "      <td>7.002498</td>\n",
       "      <td>9.001998</td>\n",
       "      <td>-1098</td>\n",
       "    </tr>\n",
       "    <tr>\n",
       "      <th>ab3cc6ccac661a1385e73a2e9f21313a</th>\n",
       "      <td>721</td>\n",
       "      <td>4</td>\n",
       "      <td>0</td>\n",
       "      <td>2</td>\n",
       "      <td>1</td>\n",
       "      <td>30</td>\n",
       "      <td>2</td>\n",
       "      <td>2</td>\n",
       "      <td>1</td>\n",
       "      <td>3</td>\n",
       "      <td>...</td>\n",
       "      <td>3.000999</td>\n",
       "      <td>2.000999</td>\n",
       "      <td>7.0002</td>\n",
       "      <td>4.000999</td>\n",
       "      <td>4.000999</td>\n",
       "      <td>6.000000</td>\n",
       "      <td>1.000500</td>\n",
       "      <td>12.003497</td>\n",
       "      <td>22.002698</td>\n",
       "      <td>928</td>\n",
       "    </tr>\n",
       "    <tr>\n",
       "      <th>54aaab1cb8cc5df3c253641618673266</th>\n",
       "      <td>752</td>\n",
       "      <td>22</td>\n",
       "      <td>7</td>\n",
       "      <td>1</td>\n",
       "      <td>0</td>\n",
       "      <td>8</td>\n",
       "      <td>2</td>\n",
       "      <td>0</td>\n",
       "      <td>2</td>\n",
       "      <td>8</td>\n",
       "      <td>...</td>\n",
       "      <td>5.000999</td>\n",
       "      <td>3.000500</td>\n",
       "      <td>1.0000</td>\n",
       "      <td>1.000999</td>\n",
       "      <td>0.000333</td>\n",
       "      <td>2.000500</td>\n",
       "      <td>3.000333</td>\n",
       "      <td>18.002498</td>\n",
       "      <td>7.002165</td>\n",
       "      <td>1348</td>\n",
       "    </tr>\n",
       "  </tbody>\n",
       "</table>\n",
       "<p>5 rows × 263 columns</p>\n",
       "</div>"
      ],
      "text/plain": [
       "                                  game_time  game_mode  lobby_type  \\\n",
       "match_id_hash                                                        \n",
       "a400b8f29dece5f4d266f49f1ae2e98a        155         22           7   \n",
       "46a0ddce8f7ed2a8d9bd5edcbb925682        576         22           7   \n",
       "b1b35ff97723d9b7ade1c9c3cf48f770        453         22           7   \n",
       "ab3cc6ccac661a1385e73a2e9f21313a        721          4           0   \n",
       "54aaab1cb8cc5df3c253641618673266        752         22           7   \n",
       "\n",
       "                                  objectives_len  chat_len  r1_hero_id  \\\n",
       "match_id_hash                                                            \n",
       "a400b8f29dece5f4d266f49f1ae2e98a               1        11          11   \n",
       "46a0ddce8f7ed2a8d9bd5edcbb925682               1         4          14   \n",
       "b1b35ff97723d9b7ade1c9c3cf48f770               1         3          42   \n",
       "ab3cc6ccac661a1385e73a2e9f21313a               2         1          30   \n",
       "54aaab1cb8cc5df3c253641618673266               1         0           8   \n",
       "\n",
       "                                  r1_kills  r1_deaths  r1_assists  r1_denies  \\\n",
       "match_id_hash                                                                  \n",
       "a400b8f29dece5f4d266f49f1ae2e98a         0          0           0          0   \n",
       "46a0ddce8f7ed2a8d9bd5edcbb925682         1          0           3          1   \n",
       "b1b35ff97723d9b7ade1c9c3cf48f770         0          1           1          0   \n",
       "ab3cc6ccac661a1385e73a2e9f21313a         2          2           1          3   \n",
       "54aaab1cb8cc5df3c253641618673266         2          0           2          8   \n",
       "\n",
       "                                  ...    r4_kda    r5_kda  d1_kda    d2_kda  \\\n",
       "match_id_hash                     ...                                         \n",
       "a400b8f29dece5f4d266f49f1ae2e98a  ...  1.000000  1.000000  2.0000  1.000000   \n",
       "46a0ddce8f7ed2a8d9bd5edcbb925682  ...  3.000999  2.000000  1.0000  1.000333   \n",
       "b1b35ff97723d9b7ade1c9c3cf48f770  ...  3.000000  1.000500  2.0000  2.000000   \n",
       "ab3cc6ccac661a1385e73a2e9f21313a  ...  3.000999  2.000999  7.0002  4.000999   \n",
       "54aaab1cb8cc5df3c253641618673266  ...  5.000999  3.000500  1.0000  1.000999   \n",
       "\n",
       "                                    d3_kda    d4_kda    d5_kda       rkda  \\\n",
       "match_id_hash                                                               \n",
       "a400b8f29dece5f4d266f49f1ae2e98a  1.000000  2.000000  1.000000   4.000999   \n",
       "46a0ddce8f7ed2a8d9bd5edcbb925682  1.000999  0.000500  0.000999  17.001998   \n",
       "b1b35ff97723d9b7ade1c9c3cf48f770  2.000000  2.000999  1.000999   7.002498   \n",
       "ab3cc6ccac661a1385e73a2e9f21313a  4.000999  6.000000  1.000500  12.003497   \n",
       "54aaab1cb8cc5df3c253641618673266  0.000333  2.000500  3.000333  18.002498   \n",
       "\n",
       "                                       dkda  gold_difference  \n",
       "match_id_hash                                                 \n",
       "a400b8f29dece5f4d266f49f1ae2e98a   7.000000            -1911  \n",
       "46a0ddce8f7ed2a8d9bd5edcbb925682   3.002831             2047  \n",
       "b1b35ff97723d9b7ade1c9c3cf48f770   9.001998            -1098  \n",
       "ab3cc6ccac661a1385e73a2e9f21313a  22.002698              928  \n",
       "54aaab1cb8cc5df3c253641618673266   7.002165             1348  \n",
       "\n",
       "[5 rows x 263 columns]"
      ]
     },
     "execution_count": 89,
     "metadata": {},
     "output_type": "execute_result"
    }
   ],
   "source": [
    "df_test_features_extended['r_gold'] = df_test_features_extended['r1_gold'] + df_test_features_extended['r2_gold'] + \\\n",
    "     df_test_features_extended['r3_gold'] + df_test_features_extended['r4_gold'] + \\\n",
    "     df_test_features_extended['r5_gold']\n",
    "\n",
    "df_test_features_extended['d_gold'] = df_test_features_extended['d1_gold'] + df_test_features_extended['d2_gold'] + \\\n",
    "     df_test_features_extended['d3_gold'] + df_test_features_extended['d4_gold'] + \\\n",
    "     df_test_features_extended['d5_gold']\n",
    "\n",
    "for hero_index in ['r1', 'r2', 'r3', 'r4', 'r5', 'd1', 'd2', 'd3', 'd4', 'd5']: \n",
    "    df_test_features_extended[hero_index+'_kda'] = (df_test_features_extended[hero_index+'_kills']+df_test_features_extended[hero_index+'_assists'])+0.001/(df_test_features_extended[hero_index+'_deaths']+0.001)\n",
    "\n",
    "df_test_features_extended['rkda'] = df_test_features_extended['r1_kda']+df_test_features_extended['r2_kda']+df_test_features_extended['r3_kda']+df_test_features_extended['r4_kda']+df_test_features_extended['r5_kda']\n",
    "df_test_features_extended['dkda'] = df_test_features_extended['d1_kda']+df_test_features_extended['d2_kda']+df_test_features_extended['d3_kda']+df_test_features_extended['d4_kda']+df_test_features_extended['d5_kda']  \n",
    "    \n",
    "df_test_features_extended['gold_difference'] = df_test_features_extended['r_gold'] - df_test_features_extended['d_gold']\n",
    "df_test_features_extended.head()"
   ]
  },
  {
   "cell_type": "code",
   "execution_count": 90,
   "metadata": {},
   "outputs": [
    {
     "name": "stdout",
     "output_type": "stream",
     "text": [
      "[23:33:33] WARNING: C:/Users/Administrator/workspace/xgboost-win64_release_1.5.1/src/learner.cc:1115: Starting in XGBoost 1.3.0, the default evaluation metric used with the objective 'binary:logistic' was changed from 'error' to 'logloss'. Explicitly set eval_metric if you'd like to restore the old behavior.\n"
     ]
    },
    {
     "data": {
      "text/plain": [
       "VotingClassifier(estimators=[('lr',\n",
       "                              LogisticRegression(max_iter=1000,\n",
       "                                                 random_state=42)),\n",
       "                             ('rf',\n",
       "                              RandomForestClassifier(n_estimators=1000,\n",
       "                                                     random_state=42)),\n",
       "                             ('knn', KNeighborsClassifier()),\n",
       "                             ('xgb',\n",
       "                              XGBClassifier(base_score=None, booster=None,\n",
       "                                            colsample_bylevel=None,\n",
       "                                            colsample_bynode=None,\n",
       "                                            colsample_bytree=None,\n",
       "                                            enable_categorical=False,\n",
       "                                            gamma=None, gpu_id=None,\n",
       "                                            imp...\n",
       "                                            n_estimators=1000, n_jobs=None,\n",
       "                                            num_parallel_tree=None,\n",
       "                                            predictor=None, random_state=42,\n",
       "                                            reg_alpha=None, reg_lambda=None,\n",
       "                                            scale_pos_weight=None,\n",
       "                                            subsample=None, tree_method=None,\n",
       "                                            validate_parameters=None,\n",
       "                                            verbosity=None)),\n",
       "                             ('ada',\n",
       "                              AdaBoostClassifier(base_estimator=DecisionTreeClassifier(max_depth=2),\n",
       "                                                 learning_rate=0.5,\n",
       "                                                 n_estimators=200,\n",
       "                                                 random_state=42))],\n",
       "                 voting='soft')"
      ]
     },
     "execution_count": 90,
     "metadata": {},
     "output_type": "execute_result"
    }
   ],
   "source": [
    "voting_clf.fit(df_train_features_extended.values, y)"
   ]
  },
  {
   "cell_type": "code",
   "execution_count": 91,
   "metadata": {},
   "outputs": [
    {
     "name": "stdout",
     "output_type": "stream",
     "text": [
      "Файл посылки сохранен, как: submission_2022-04-03_23-36-56.csv\n"
     ]
    }
   ],
   "source": [
    "X_test = df_test_features_extended.values\n",
    "y_test_pred = voting_clf.predict_proba(X_test)[:, 1]\n",
    "\n",
    "df_submission = pd.DataFrame({\"radiant_win_prob\": y_test_pred}, \n",
    "                                 index=df_test_features.index)\n",
    "\n",
    "submission_filename = \"submission_{}.csv\".format(\n",
    "    datetime.datetime.now().strftime(\"%Y-%m-%d_%H-%M-%S\"))\n",
    "df_submission.to_csv(submission_filename)\n",
    "print(\"Файл посылки сохранен, как: {}\".format(submission_filename))"
   ]
  },
  {
   "cell_type": "markdown",
   "metadata": {},
   "source": [
    "(Спойлер: почему-то в таком виде предсказание не работает - видимо, не совпадает порядок столбцов в тестовых и тренировочных данных)"
   ]
  }
 ],
 "metadata": {
  "kernelspec": {
   "display_name": "Python 3",
   "language": "python",
   "name": "python3"
  },
  "language_info": {
   "codemirror_mode": {
    "name": "ipython",
    "version": 3
   },
   "file_extension": ".py",
   "mimetype": "text/x-python",
   "name": "python",
   "nbconvert_exporter": "python",
   "pygments_lexer": "ipython3",
   "version": "3.8.5"
  },
  "papermill": {
   "default_parameters": {},
   "duration": 284.624138,
   "end_time": "2022-02-13T23:32:56.553845",
   "environment_variables": {},
   "exception": null,
   "input_path": "__notebook__.ipynb",
   "output_path": "__notebook__.ipynb",
   "parameters": {},
   "start_time": "2022-02-13T23:28:11.929707",
   "version": "2.3.3"
  },
  "widgets": {
   "application/vnd.jupyter.widget-state+json": {
    "state": {
     "0d846e978a8143a2ba494b58420ed067": {
      "model_module": "@jupyter-widgets/controls",
      "model_module_version": "1.5.0",
      "model_name": "DescriptionStyleModel",
      "state": {
       "_model_module": "@jupyter-widgets/controls",
       "_model_module_version": "1.5.0",
       "_model_name": "DescriptionStyleModel",
       "_view_count": null,
       "_view_module": "@jupyter-widgets/base",
       "_view_module_version": "1.2.0",
       "_view_name": "StyleView",
       "description_width": ""
      }
     },
     "0f8b8404bb734f6db3a2c56c3c7ddc6e": {
      "model_module": "@jupyter-widgets/controls",
      "model_module_version": "1.5.0",
      "model_name": "HTMLModel",
      "state": {
       "_dom_classes": [],
       "_model_module": "@jupyter-widgets/controls",
       "_model_module_version": "1.5.0",
       "_model_name": "HTMLModel",
       "_view_count": null,
       "_view_module": "@jupyter-widgets/controls",
       "_view_module_version": "1.5.0",
       "_view_name": "HTMLView",
       "description": "",
       "description_tooltip": null,
       "layout": "IPY_MODEL_59ddf819389045a094a711175442dbbe",
       "placeholder": "​",
       "style": "IPY_MODEL_b3c47a606fc044ddb919678e9db33628",
       "value": " 31698/31698 [01:40&lt;00:00, 330.36it/s]"
      }
     },
     "3a6bb37584384e4383e29e115a610a9c": {
      "model_module": "@jupyter-widgets/controls",
      "model_module_version": "1.5.0",
      "model_name": "FloatProgressModel",
      "state": {
       "_dom_classes": [],
       "_model_module": "@jupyter-widgets/controls",
       "_model_module_version": "1.5.0",
       "_model_name": "FloatProgressModel",
       "_view_count": null,
       "_view_module": "@jupyter-widgets/controls",
       "_view_module_version": "1.5.0",
       "_view_name": "ProgressView",
       "bar_style": "success",
       "description": "",
       "description_tooltip": null,
       "layout": "IPY_MODEL_bb3a69bae1bf4f5f9967c6a0650ad8a7",
       "max": 31698,
       "min": 0,
       "orientation": "horizontal",
       "style": "IPY_MODEL_fdeafc39a9f24ec592cf3b625746cc77",
       "value": 31698
      }
     },
     "59ddf819389045a094a711175442dbbe": {
      "model_module": "@jupyter-widgets/base",
      "model_module_version": "1.2.0",
      "model_name": "LayoutModel",
      "state": {
       "_model_module": "@jupyter-widgets/base",
       "_model_module_version": "1.2.0",
       "_model_name": "LayoutModel",
       "_view_count": null,
       "_view_module": "@jupyter-widgets/base",
       "_view_module_version": "1.2.0",
       "_view_name": "LayoutView",
       "align_content": null,
       "align_items": null,
       "align_self": null,
       "border": null,
       "bottom": null,
       "display": null,
       "flex": null,
       "flex_flow": null,
       "grid_area": null,
       "grid_auto_columns": null,
       "grid_auto_flow": null,
       "grid_auto_rows": null,
       "grid_column": null,
       "grid_gap": null,
       "grid_row": null,
       "grid_template_areas": null,
       "grid_template_columns": null,
       "grid_template_rows": null,
       "height": null,
       "justify_content": null,
       "justify_items": null,
       "left": null,
       "margin": null,
       "max_height": null,
       "max_width": null,
       "min_height": null,
       "min_width": null,
       "object_fit": null,
       "object_position": null,
       "order": null,
       "overflow": null,
       "overflow_x": null,
       "overflow_y": null,
       "padding": null,
       "right": null,
       "top": null,
       "visibility": null,
       "width": null
      }
     },
     "87bfa925a1994dd9ad3d09fd2e7bce9d": {
      "model_module": "@jupyter-widgets/controls",
      "model_module_version": "1.5.0",
      "model_name": "HBoxModel",
      "state": {
       "_dom_classes": [],
       "_model_module": "@jupyter-widgets/controls",
       "_model_module_version": "1.5.0",
       "_model_name": "HBoxModel",
       "_view_count": null,
       "_view_module": "@jupyter-widgets/controls",
       "_view_module_version": "1.5.0",
       "_view_name": "HBoxView",
       "box_style": "",
       "children": [
        "IPY_MODEL_c1ea357b70b94a698befc40b4e7d7383",
        "IPY_MODEL_3a6bb37584384e4383e29e115a610a9c",
        "IPY_MODEL_0f8b8404bb734f6db3a2c56c3c7ddc6e"
       ],
       "layout": "IPY_MODEL_9689ed38e7c7461fa9c7467a1ce4a958"
      }
     },
     "9689ed38e7c7461fa9c7467a1ce4a958": {
      "model_module": "@jupyter-widgets/base",
      "model_module_version": "1.2.0",
      "model_name": "LayoutModel",
      "state": {
       "_model_module": "@jupyter-widgets/base",
       "_model_module_version": "1.2.0",
       "_model_name": "LayoutModel",
       "_view_count": null,
       "_view_module": "@jupyter-widgets/base",
       "_view_module_version": "1.2.0",
       "_view_name": "LayoutView",
       "align_content": null,
       "align_items": null,
       "align_self": null,
       "border": null,
       "bottom": null,
       "display": null,
       "flex": null,
       "flex_flow": null,
       "grid_area": null,
       "grid_auto_columns": null,
       "grid_auto_flow": null,
       "grid_auto_rows": null,
       "grid_column": null,
       "grid_gap": null,
       "grid_row": null,
       "grid_template_areas": null,
       "grid_template_columns": null,
       "grid_template_rows": null,
       "height": null,
       "justify_content": null,
       "justify_items": null,
       "left": null,
       "margin": null,
       "max_height": null,
       "max_width": null,
       "min_height": null,
       "min_width": null,
       "object_fit": null,
       "object_position": null,
       "order": null,
       "overflow": null,
       "overflow_x": null,
       "overflow_y": null,
       "padding": null,
       "right": null,
       "top": null,
       "visibility": null,
       "width": null
      }
     },
     "b33f8b0631ee42ee93456c2af9091912": {
      "model_module": "@jupyter-widgets/base",
      "model_module_version": "1.2.0",
      "model_name": "LayoutModel",
      "state": {
       "_model_module": "@jupyter-widgets/base",
       "_model_module_version": "1.2.0",
       "_model_name": "LayoutModel",
       "_view_count": null,
       "_view_module": "@jupyter-widgets/base",
       "_view_module_version": "1.2.0",
       "_view_name": "LayoutView",
       "align_content": null,
       "align_items": null,
       "align_self": null,
       "border": null,
       "bottom": null,
       "display": null,
       "flex": null,
       "flex_flow": null,
       "grid_area": null,
       "grid_auto_columns": null,
       "grid_auto_flow": null,
       "grid_auto_rows": null,
       "grid_column": null,
       "grid_gap": null,
       "grid_row": null,
       "grid_template_areas": null,
       "grid_template_columns": null,
       "grid_template_rows": null,
       "height": null,
       "justify_content": null,
       "justify_items": null,
       "left": null,
       "margin": null,
       "max_height": null,
       "max_width": null,
       "min_height": null,
       "min_width": null,
       "object_fit": null,
       "object_position": null,
       "order": null,
       "overflow": null,
       "overflow_x": null,
       "overflow_y": null,
       "padding": null,
       "right": null,
       "top": null,
       "visibility": null,
       "width": null
      }
     },
     "b3c47a606fc044ddb919678e9db33628": {
      "model_module": "@jupyter-widgets/controls",
      "model_module_version": "1.5.0",
      "model_name": "DescriptionStyleModel",
      "state": {
       "_model_module": "@jupyter-widgets/controls",
       "_model_module_version": "1.5.0",
       "_model_name": "DescriptionStyleModel",
       "_view_count": null,
       "_view_module": "@jupyter-widgets/base",
       "_view_module_version": "1.2.0",
       "_view_name": "StyleView",
       "description_width": ""
      }
     },
     "bb3a69bae1bf4f5f9967c6a0650ad8a7": {
      "model_module": "@jupyter-widgets/base",
      "model_module_version": "1.2.0",
      "model_name": "LayoutModel",
      "state": {
       "_model_module": "@jupyter-widgets/base",
       "_model_module_version": "1.2.0",
       "_model_name": "LayoutModel",
       "_view_count": null,
       "_view_module": "@jupyter-widgets/base",
       "_view_module_version": "1.2.0",
       "_view_name": "LayoutView",
       "align_content": null,
       "align_items": null,
       "align_self": null,
       "border": null,
       "bottom": null,
       "display": null,
       "flex": null,
       "flex_flow": null,
       "grid_area": null,
       "grid_auto_columns": null,
       "grid_auto_flow": null,
       "grid_auto_rows": null,
       "grid_column": null,
       "grid_gap": null,
       "grid_row": null,
       "grid_template_areas": null,
       "grid_template_columns": null,
       "grid_template_rows": null,
       "height": null,
       "justify_content": null,
       "justify_items": null,
       "left": null,
       "margin": null,
       "max_height": null,
       "max_width": null,
       "min_height": null,
       "min_width": null,
       "object_fit": null,
       "object_position": null,
       "order": null,
       "overflow": null,
       "overflow_x": null,
       "overflow_y": null,
       "padding": null,
       "right": null,
       "top": null,
       "visibility": null,
       "width": null
      }
     },
     "c1ea357b70b94a698befc40b4e7d7383": {
      "model_module": "@jupyter-widgets/controls",
      "model_module_version": "1.5.0",
      "model_name": "HTMLModel",
      "state": {
       "_dom_classes": [],
       "_model_module": "@jupyter-widgets/controls",
       "_model_module_version": "1.5.0",
       "_model_name": "HTMLModel",
       "_view_count": null,
       "_view_module": "@jupyter-widgets/controls",
       "_view_module_version": "1.5.0",
       "_view_name": "HTMLView",
       "description": "",
       "description_tooltip": null,
       "layout": "IPY_MODEL_b33f8b0631ee42ee93456c2af9091912",
       "placeholder": "​",
       "style": "IPY_MODEL_0d846e978a8143a2ba494b58420ed067",
       "value": "100%"
      }
     },
     "fdeafc39a9f24ec592cf3b625746cc77": {
      "model_module": "@jupyter-widgets/controls",
      "model_module_version": "1.5.0",
      "model_name": "ProgressStyleModel",
      "state": {
       "_model_module": "@jupyter-widgets/controls",
       "_model_module_version": "1.5.0",
       "_model_name": "ProgressStyleModel",
       "_view_count": null,
       "_view_module": "@jupyter-widgets/base",
       "_view_module_version": "1.2.0",
       "_view_name": "StyleView",
       "bar_color": null,
       "description_width": ""
      }
     }
    },
    "version_major": 2,
    "version_minor": 0
   }
  }
 },
 "nbformat": 4,
 "nbformat_minor": 5
}
